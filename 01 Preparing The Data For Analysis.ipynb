{
 "cells": [
  {
   "cell_type": "markdown",
   "metadata": {},
   "source": [
    "# Traffic Police Stops"
   ]
  },
  {
   "cell_type": "code",
   "execution_count": 1,
   "metadata": {},
   "outputs": [],
   "source": [
    "import pandas as pd"
   ]
  },
  {
   "cell_type": "code",
   "execution_count": 2,
   "metadata": {},
   "outputs": [
    {
     "name": "stderr",
     "output_type": "stream",
     "text": [
      "C:\\Anaconda3\\lib\\site-packages\\IPython\\core\\interactiveshell.py:3071: DtypeWarning: Columns (8,16) have mixed types.Specify dtype option on import or set low_memory=False.\n",
      "  has_raised = await self.run_ast_nodes(code_ast.body, cell_name,\n"
     ]
    }
   ],
   "source": [
    "dosya = pd.read_csv(\"police.csv\")"
   ]
  },
  {
   "cell_type": "code",
   "execution_count": 3,
   "metadata": {},
   "outputs": [],
   "source": [
    "buyuk = pd.DataFrame(dosya)"
   ]
  },
  {
   "cell_type": "code",
   "execution_count": 4,
   "metadata": {},
   "outputs": [],
   "source": [
    "ri = buyuk.sample(50000)"
   ]
  },
  {
   "cell_type": "code",
   "execution_count": 5,
   "metadata": {
    "scrolled": true
   },
   "outputs": [
    {
     "data": {
      "text/plain": [
       "(50000, 26)"
      ]
     },
     "execution_count": 5,
     "metadata": {},
     "output_type": "execute_result"
    }
   ],
   "source": [
    "ri.shape"
   ]
  },
  {
   "cell_type": "code",
   "execution_count": 6,
   "metadata": {},
   "outputs": [
    {
     "data": {
      "text/html": [
       "<div>\n",
       "<style scoped>\n",
       "    .dataframe tbody tr th:only-of-type {\n",
       "        vertical-align: middle;\n",
       "    }\n",
       "\n",
       "    .dataframe tbody tr th {\n",
       "        vertical-align: top;\n",
       "    }\n",
       "\n",
       "    .dataframe thead th {\n",
       "        text-align: right;\n",
       "    }\n",
       "</style>\n",
       "<table border=\"1\" class=\"dataframe\">\n",
       "  <thead>\n",
       "    <tr style=\"text-align: right;\">\n",
       "      <th></th>\n",
       "      <th>id</th>\n",
       "      <th>state</th>\n",
       "      <th>stop_date</th>\n",
       "      <th>stop_time</th>\n",
       "      <th>location_raw</th>\n",
       "      <th>county_name</th>\n",
       "      <th>county_fips</th>\n",
       "      <th>fine_grained_location</th>\n",
       "      <th>police_department</th>\n",
       "      <th>driver_gender</th>\n",
       "      <th>...</th>\n",
       "      <th>search_conducted</th>\n",
       "      <th>search_type_raw</th>\n",
       "      <th>search_type</th>\n",
       "      <th>contraband_found</th>\n",
       "      <th>stop_outcome</th>\n",
       "      <th>is_arrested</th>\n",
       "      <th>stop_duration</th>\n",
       "      <th>out_of_state</th>\n",
       "      <th>drugs_related_stop</th>\n",
       "      <th>district</th>\n",
       "    </tr>\n",
       "  </thead>\n",
       "  <tbody>\n",
       "    <tr>\n",
       "      <th>173275</th>\n",
       "      <td>RI-2008-47651</td>\n",
       "      <td>RI</td>\n",
       "      <td>2008-12-16</td>\n",
       "      <td>14:11</td>\n",
       "      <td>Zone X1</td>\n",
       "      <td>NaN</td>\n",
       "      <td>NaN</td>\n",
       "      <td>NaN</td>\n",
       "      <td>0</td>\n",
       "      <td>M</td>\n",
       "      <td>...</td>\n",
       "      <td>False</td>\n",
       "      <td>NaN</td>\n",
       "      <td>NaN</td>\n",
       "      <td>False</td>\n",
       "      <td>Citation</td>\n",
       "      <td>False</td>\n",
       "      <td>30+ Min</td>\n",
       "      <td>True</td>\n",
       "      <td>False</td>\n",
       "      <td>Zone X1</td>\n",
       "    </tr>\n",
       "    <tr>\n",
       "      <th>317108</th>\n",
       "      <td>RI-2012-10827</td>\n",
       "      <td>RI</td>\n",
       "      <td>2012-02-22</td>\n",
       "      <td>14:26</td>\n",
       "      <td>Zone K1</td>\n",
       "      <td>NaN</td>\n",
       "      <td>NaN</td>\n",
       "      <td>NaN</td>\n",
       "      <td>600</td>\n",
       "      <td>M</td>\n",
       "      <td>...</td>\n",
       "      <td>False</td>\n",
       "      <td>NaN</td>\n",
       "      <td>NaN</td>\n",
       "      <td>False</td>\n",
       "      <td>Citation</td>\n",
       "      <td>False</td>\n",
       "      <td>16-30 Min</td>\n",
       "      <td>True</td>\n",
       "      <td>False</td>\n",
       "      <td>Zone K1</td>\n",
       "    </tr>\n",
       "    <tr>\n",
       "      <th>188466</th>\n",
       "      <td>RI-2009-13823</td>\n",
       "      <td>RI</td>\n",
       "      <td>2009-04-09</td>\n",
       "      <td>10:00</td>\n",
       "      <td>Zone X3</td>\n",
       "      <td>NaN</td>\n",
       "      <td>NaN</td>\n",
       "      <td>NaN</td>\n",
       "      <td>200</td>\n",
       "      <td>M</td>\n",
       "      <td>...</td>\n",
       "      <td>False</td>\n",
       "      <td>NaN</td>\n",
       "      <td>NaN</td>\n",
       "      <td>False</td>\n",
       "      <td>Citation</td>\n",
       "      <td>False</td>\n",
       "      <td>16-30 Min</td>\n",
       "      <td>False</td>\n",
       "      <td>False</td>\n",
       "      <td>Zone X3</td>\n",
       "    </tr>\n",
       "    <tr>\n",
       "      <th>442181</th>\n",
       "      <td>RI-2014-30386</td>\n",
       "      <td>RI</td>\n",
       "      <td>2014-07-25</td>\n",
       "      <td>07:18</td>\n",
       "      <td>Zone X3</td>\n",
       "      <td>NaN</td>\n",
       "      <td>NaN</td>\n",
       "      <td>NaN</td>\n",
       "      <td>200</td>\n",
       "      <td>M</td>\n",
       "      <td>...</td>\n",
       "      <td>False</td>\n",
       "      <td>NaN</td>\n",
       "      <td>NaN</td>\n",
       "      <td>False</td>\n",
       "      <td>Warning</td>\n",
       "      <td>False</td>\n",
       "      <td>0-15 Min</td>\n",
       "      <td>False</td>\n",
       "      <td>False</td>\n",
       "      <td>Zone X3</td>\n",
       "    </tr>\n",
       "    <tr>\n",
       "      <th>381030</th>\n",
       "      <td>RI-2013-13921</td>\n",
       "      <td>RI</td>\n",
       "      <td>2013-04-25</td>\n",
       "      <td>14:28</td>\n",
       "      <td>Zone K2</td>\n",
       "      <td>NaN</td>\n",
       "      <td>NaN</td>\n",
       "      <td>NaN</td>\n",
       "      <td>900</td>\n",
       "      <td>F</td>\n",
       "      <td>...</td>\n",
       "      <td>False</td>\n",
       "      <td>NaN</td>\n",
       "      <td>NaN</td>\n",
       "      <td>False</td>\n",
       "      <td>Citation</td>\n",
       "      <td>False</td>\n",
       "      <td>0-15 Min</td>\n",
       "      <td>False</td>\n",
       "      <td>False</td>\n",
       "      <td>Zone K2</td>\n",
       "    </tr>\n",
       "  </tbody>\n",
       "</table>\n",
       "<p>5 rows × 26 columns</p>\n",
       "</div>"
      ],
      "text/plain": [
       "                   id state   stop_date stop_time location_raw  county_name  \\\n",
       "173275  RI-2008-47651    RI  2008-12-16     14:11      Zone X1          NaN   \n",
       "317108  RI-2012-10827    RI  2012-02-22     14:26      Zone K1          NaN   \n",
       "188466  RI-2009-13823    RI  2009-04-09     10:00      Zone X3          NaN   \n",
       "442181  RI-2014-30386    RI  2014-07-25     07:18      Zone X3          NaN   \n",
       "381030  RI-2013-13921    RI  2013-04-25     14:28      Zone K2          NaN   \n",
       "\n",
       "        county_fips  fine_grained_location police_department driver_gender  \\\n",
       "173275          NaN                    NaN                 0             M   \n",
       "317108          NaN                    NaN               600             M   \n",
       "188466          NaN                    NaN               200             M   \n",
       "442181          NaN                    NaN               200             M   \n",
       "381030          NaN                    NaN               900             F   \n",
       "\n",
       "        ...  search_conducted  search_type_raw search_type contraband_found  \\\n",
       "173275  ...             False              NaN         NaN            False   \n",
       "317108  ...             False              NaN         NaN            False   \n",
       "188466  ...             False              NaN         NaN            False   \n",
       "442181  ...             False              NaN         NaN            False   \n",
       "381030  ...             False              NaN         NaN            False   \n",
       "\n",
       "       stop_outcome is_arrested stop_duration out_of_state drugs_related_stop  \\\n",
       "173275     Citation       False       30+ Min         True              False   \n",
       "317108     Citation       False     16-30 Min         True              False   \n",
       "188466     Citation       False     16-30 Min        False              False   \n",
       "442181      Warning       False      0-15 Min        False              False   \n",
       "381030     Citation       False      0-15 Min        False              False   \n",
       "\n",
       "        district  \n",
       "173275   Zone X1  \n",
       "317108   Zone K1  \n",
       "188466   Zone X3  \n",
       "442181   Zone X3  \n",
       "381030   Zone K2  \n",
       "\n",
       "[5 rows x 26 columns]"
      ]
     },
     "execution_count": 6,
     "metadata": {},
     "output_type": "execute_result"
    }
   ],
   "source": [
    "ri.head(5)"
   ]
  },
  {
   "cell_type": "code",
   "execution_count": 7,
   "metadata": {
    "scrolled": false
   },
   "outputs": [
    {
     "data": {
      "text/html": [
       "<div>\n",
       "<style scoped>\n",
       "    .dataframe tbody tr th:only-of-type {\n",
       "        vertical-align: middle;\n",
       "    }\n",
       "\n",
       "    .dataframe tbody tr th {\n",
       "        vertical-align: top;\n",
       "    }\n",
       "\n",
       "    .dataframe thead th {\n",
       "        text-align: right;\n",
       "    }\n",
       "</style>\n",
       "<table border=\"1\" class=\"dataframe\">\n",
       "  <thead>\n",
       "    <tr style=\"text-align: right;\">\n",
       "      <th></th>\n",
       "      <th>id</th>\n",
       "      <th>state</th>\n",
       "      <th>stop_date</th>\n",
       "      <th>stop_time</th>\n",
       "      <th>location_raw</th>\n",
       "      <th>county_name</th>\n",
       "      <th>county_fips</th>\n",
       "      <th>fine_grained_location</th>\n",
       "      <th>police_department</th>\n",
       "      <th>driver_gender</th>\n",
       "      <th>...</th>\n",
       "      <th>search_conducted</th>\n",
       "      <th>search_type_raw</th>\n",
       "      <th>search_type</th>\n",
       "      <th>contraband_found</th>\n",
       "      <th>stop_outcome</th>\n",
       "      <th>is_arrested</th>\n",
       "      <th>stop_duration</th>\n",
       "      <th>out_of_state</th>\n",
       "      <th>drugs_related_stop</th>\n",
       "      <th>district</th>\n",
       "    </tr>\n",
       "  </thead>\n",
       "  <tbody>\n",
       "    <tr>\n",
       "      <th>173275</th>\n",
       "      <td>False</td>\n",
       "      <td>False</td>\n",
       "      <td>False</td>\n",
       "      <td>False</td>\n",
       "      <td>False</td>\n",
       "      <td>True</td>\n",
       "      <td>True</td>\n",
       "      <td>True</td>\n",
       "      <td>False</td>\n",
       "      <td>False</td>\n",
       "      <td>...</td>\n",
       "      <td>False</td>\n",
       "      <td>True</td>\n",
       "      <td>True</td>\n",
       "      <td>False</td>\n",
       "      <td>False</td>\n",
       "      <td>False</td>\n",
       "      <td>False</td>\n",
       "      <td>False</td>\n",
       "      <td>False</td>\n",
       "      <td>False</td>\n",
       "    </tr>\n",
       "    <tr>\n",
       "      <th>317108</th>\n",
       "      <td>False</td>\n",
       "      <td>False</td>\n",
       "      <td>False</td>\n",
       "      <td>False</td>\n",
       "      <td>False</td>\n",
       "      <td>True</td>\n",
       "      <td>True</td>\n",
       "      <td>True</td>\n",
       "      <td>False</td>\n",
       "      <td>False</td>\n",
       "      <td>...</td>\n",
       "      <td>False</td>\n",
       "      <td>True</td>\n",
       "      <td>True</td>\n",
       "      <td>False</td>\n",
       "      <td>False</td>\n",
       "      <td>False</td>\n",
       "      <td>False</td>\n",
       "      <td>False</td>\n",
       "      <td>False</td>\n",
       "      <td>False</td>\n",
       "    </tr>\n",
       "    <tr>\n",
       "      <th>188466</th>\n",
       "      <td>False</td>\n",
       "      <td>False</td>\n",
       "      <td>False</td>\n",
       "      <td>False</td>\n",
       "      <td>False</td>\n",
       "      <td>True</td>\n",
       "      <td>True</td>\n",
       "      <td>True</td>\n",
       "      <td>False</td>\n",
       "      <td>False</td>\n",
       "      <td>...</td>\n",
       "      <td>False</td>\n",
       "      <td>True</td>\n",
       "      <td>True</td>\n",
       "      <td>False</td>\n",
       "      <td>False</td>\n",
       "      <td>False</td>\n",
       "      <td>False</td>\n",
       "      <td>False</td>\n",
       "      <td>False</td>\n",
       "      <td>False</td>\n",
       "    </tr>\n",
       "    <tr>\n",
       "      <th>442181</th>\n",
       "      <td>False</td>\n",
       "      <td>False</td>\n",
       "      <td>False</td>\n",
       "      <td>False</td>\n",
       "      <td>False</td>\n",
       "      <td>True</td>\n",
       "      <td>True</td>\n",
       "      <td>True</td>\n",
       "      <td>False</td>\n",
       "      <td>False</td>\n",
       "      <td>...</td>\n",
       "      <td>False</td>\n",
       "      <td>True</td>\n",
       "      <td>True</td>\n",
       "      <td>False</td>\n",
       "      <td>False</td>\n",
       "      <td>False</td>\n",
       "      <td>False</td>\n",
       "      <td>False</td>\n",
       "      <td>False</td>\n",
       "      <td>False</td>\n",
       "    </tr>\n",
       "    <tr>\n",
       "      <th>381030</th>\n",
       "      <td>False</td>\n",
       "      <td>False</td>\n",
       "      <td>False</td>\n",
       "      <td>False</td>\n",
       "      <td>False</td>\n",
       "      <td>True</td>\n",
       "      <td>True</td>\n",
       "      <td>True</td>\n",
       "      <td>False</td>\n",
       "      <td>False</td>\n",
       "      <td>...</td>\n",
       "      <td>False</td>\n",
       "      <td>True</td>\n",
       "      <td>True</td>\n",
       "      <td>False</td>\n",
       "      <td>False</td>\n",
       "      <td>False</td>\n",
       "      <td>False</td>\n",
       "      <td>False</td>\n",
       "      <td>False</td>\n",
       "      <td>False</td>\n",
       "    </tr>\n",
       "    <tr>\n",
       "      <th>...</th>\n",
       "      <td>...</td>\n",
       "      <td>...</td>\n",
       "      <td>...</td>\n",
       "      <td>...</td>\n",
       "      <td>...</td>\n",
       "      <td>...</td>\n",
       "      <td>...</td>\n",
       "      <td>...</td>\n",
       "      <td>...</td>\n",
       "      <td>...</td>\n",
       "      <td>...</td>\n",
       "      <td>...</td>\n",
       "      <td>...</td>\n",
       "      <td>...</td>\n",
       "      <td>...</td>\n",
       "      <td>...</td>\n",
       "      <td>...</td>\n",
       "      <td>...</td>\n",
       "      <td>...</td>\n",
       "      <td>...</td>\n",
       "      <td>...</td>\n",
       "    </tr>\n",
       "    <tr>\n",
       "      <th>238918</th>\n",
       "      <td>False</td>\n",
       "      <td>False</td>\n",
       "      <td>False</td>\n",
       "      <td>False</td>\n",
       "      <td>False</td>\n",
       "      <td>True</td>\n",
       "      <td>True</td>\n",
       "      <td>True</td>\n",
       "      <td>False</td>\n",
       "      <td>False</td>\n",
       "      <td>...</td>\n",
       "      <td>False</td>\n",
       "      <td>True</td>\n",
       "      <td>True</td>\n",
       "      <td>False</td>\n",
       "      <td>False</td>\n",
       "      <td>False</td>\n",
       "      <td>False</td>\n",
       "      <td>False</td>\n",
       "      <td>False</td>\n",
       "      <td>False</td>\n",
       "    </tr>\n",
       "    <tr>\n",
       "      <th>226</th>\n",
       "      <td>False</td>\n",
       "      <td>False</td>\n",
       "      <td>False</td>\n",
       "      <td>False</td>\n",
       "      <td>False</td>\n",
       "      <td>True</td>\n",
       "      <td>True</td>\n",
       "      <td>True</td>\n",
       "      <td>False</td>\n",
       "      <td>False</td>\n",
       "      <td>...</td>\n",
       "      <td>False</td>\n",
       "      <td>True</td>\n",
       "      <td>True</td>\n",
       "      <td>False</td>\n",
       "      <td>False</td>\n",
       "      <td>False</td>\n",
       "      <td>False</td>\n",
       "      <td>False</td>\n",
       "      <td>False</td>\n",
       "      <td>False</td>\n",
       "    </tr>\n",
       "    <tr>\n",
       "      <th>173277</th>\n",
       "      <td>False</td>\n",
       "      <td>False</td>\n",
       "      <td>False</td>\n",
       "      <td>False</td>\n",
       "      <td>False</td>\n",
       "      <td>True</td>\n",
       "      <td>True</td>\n",
       "      <td>True</td>\n",
       "      <td>False</td>\n",
       "      <td>False</td>\n",
       "      <td>...</td>\n",
       "      <td>False</td>\n",
       "      <td>True</td>\n",
       "      <td>True</td>\n",
       "      <td>False</td>\n",
       "      <td>False</td>\n",
       "      <td>False</td>\n",
       "      <td>False</td>\n",
       "      <td>False</td>\n",
       "      <td>False</td>\n",
       "      <td>False</td>\n",
       "    </tr>\n",
       "    <tr>\n",
       "      <th>232472</th>\n",
       "      <td>False</td>\n",
       "      <td>False</td>\n",
       "      <td>False</td>\n",
       "      <td>False</td>\n",
       "      <td>False</td>\n",
       "      <td>True</td>\n",
       "      <td>True</td>\n",
       "      <td>True</td>\n",
       "      <td>False</td>\n",
       "      <td>False</td>\n",
       "      <td>...</td>\n",
       "      <td>False</td>\n",
       "      <td>True</td>\n",
       "      <td>True</td>\n",
       "      <td>False</td>\n",
       "      <td>False</td>\n",
       "      <td>False</td>\n",
       "      <td>False</td>\n",
       "      <td>False</td>\n",
       "      <td>False</td>\n",
       "      <td>False</td>\n",
       "    </tr>\n",
       "    <tr>\n",
       "      <th>166143</th>\n",
       "      <td>False</td>\n",
       "      <td>False</td>\n",
       "      <td>False</td>\n",
       "      <td>False</td>\n",
       "      <td>False</td>\n",
       "      <td>True</td>\n",
       "      <td>True</td>\n",
       "      <td>True</td>\n",
       "      <td>False</td>\n",
       "      <td>False</td>\n",
       "      <td>...</td>\n",
       "      <td>False</td>\n",
       "      <td>True</td>\n",
       "      <td>True</td>\n",
       "      <td>False</td>\n",
       "      <td>False</td>\n",
       "      <td>False</td>\n",
       "      <td>False</td>\n",
       "      <td>False</td>\n",
       "      <td>False</td>\n",
       "      <td>False</td>\n",
       "    </tr>\n",
       "  </tbody>\n",
       "</table>\n",
       "<p>50000 rows × 26 columns</p>\n",
       "</div>"
      ],
      "text/plain": [
       "           id  state  stop_date  stop_time  location_raw  county_name  \\\n",
       "173275  False  False      False      False         False         True   \n",
       "317108  False  False      False      False         False         True   \n",
       "188466  False  False      False      False         False         True   \n",
       "442181  False  False      False      False         False         True   \n",
       "381030  False  False      False      False         False         True   \n",
       "...       ...    ...        ...        ...           ...          ...   \n",
       "238918  False  False      False      False         False         True   \n",
       "226     False  False      False      False         False         True   \n",
       "173277  False  False      False      False         False         True   \n",
       "232472  False  False      False      False         False         True   \n",
       "166143  False  False      False      False         False         True   \n",
       "\n",
       "        county_fips  fine_grained_location  police_department  driver_gender  \\\n",
       "173275         True                   True              False          False   \n",
       "317108         True                   True              False          False   \n",
       "188466         True                   True              False          False   \n",
       "442181         True                   True              False          False   \n",
       "381030         True                   True              False          False   \n",
       "...             ...                    ...                ...            ...   \n",
       "238918         True                   True              False          False   \n",
       "226            True                   True              False          False   \n",
       "173277         True                   True              False          False   \n",
       "232472         True                   True              False          False   \n",
       "166143         True                   True              False          False   \n",
       "\n",
       "        ...  search_conducted  search_type_raw  search_type  contraband_found  \\\n",
       "173275  ...             False             True         True             False   \n",
       "317108  ...             False             True         True             False   \n",
       "188466  ...             False             True         True             False   \n",
       "442181  ...             False             True         True             False   \n",
       "381030  ...             False             True         True             False   \n",
       "...     ...               ...              ...          ...               ...   \n",
       "238918  ...             False             True         True             False   \n",
       "226     ...             False             True         True             False   \n",
       "173277  ...             False             True         True             False   \n",
       "232472  ...             False             True         True             False   \n",
       "166143  ...             False             True         True             False   \n",
       "\n",
       "        stop_outcome  is_arrested  stop_duration  out_of_state  \\\n",
       "173275         False        False          False         False   \n",
       "317108         False        False          False         False   \n",
       "188466         False        False          False         False   \n",
       "442181         False        False          False         False   \n",
       "381030         False        False          False         False   \n",
       "...              ...          ...            ...           ...   \n",
       "238918         False        False          False         False   \n",
       "226            False        False          False         False   \n",
       "173277         False        False          False         False   \n",
       "232472         False        False          False         False   \n",
       "166143         False        False          False         False   \n",
       "\n",
       "        drugs_related_stop  district  \n",
       "173275               False     False  \n",
       "317108               False     False  \n",
       "188466               False     False  \n",
       "442181               False     False  \n",
       "381030               False     False  \n",
       "...                    ...       ...  \n",
       "238918               False     False  \n",
       "226                  False     False  \n",
       "173277               False     False  \n",
       "232472               False     False  \n",
       "166143               False     False  \n",
       "\n",
       "[50000 rows x 26 columns]"
      ]
     },
     "execution_count": 7,
     "metadata": {},
     "output_type": "execute_result"
    }
   ],
   "source": [
    "ri.isnull()"
   ]
  },
  {
   "cell_type": "code",
   "execution_count": 8,
   "metadata": {
    "scrolled": false
   },
   "outputs": [
    {
     "data": {
      "text/plain": [
       "id                           0\n",
       "state                        0\n",
       "stop_date                    2\n",
       "stop_time                    2\n",
       "location_raw                 0\n",
       "county_name              50000\n",
       "county_fips              50000\n",
       "fine_grained_location    50000\n",
       "police_department            2\n",
       "driver_gender             2766\n",
       "driver_age_raw            2759\n",
       "driver_age                2925\n",
       "driver_race_raw           2762\n",
       "driver_race               2762\n",
       "violation_raw             2762\n",
       "violation                 2762\n",
       "search_conducted             2\n",
       "search_type_raw          48225\n",
       "search_type              48225\n",
       "contraband_found             0\n",
       "stop_outcome              2762\n",
       "is_arrested               2762\n",
       "stop_duration             2762\n",
       "out_of_state              2851\n",
       "drugs_related_stop           0\n",
       "district                     0\n",
       "dtype: int64"
      ]
     },
     "execution_count": 8,
     "metadata": {},
     "output_type": "execute_result"
    }
   ],
   "source": [
    "ri.isnull().sum()"
   ]
  },
  {
   "cell_type": "code",
   "execution_count": 10,
   "metadata": {},
   "outputs": [
    {
     "data": {
      "text/plain": [
       "id                         0.000\n",
       "state                      0.000\n",
       "stop_date                  0.004\n",
       "stop_time                  0.004\n",
       "location_raw               0.000\n",
       "county_name              100.000\n",
       "county_fips              100.000\n",
       "fine_grained_location    100.000\n",
       "police_department          0.004\n",
       "driver_gender              5.532\n",
       "driver_age_raw             5.518\n",
       "driver_age                 5.850\n",
       "driver_race_raw            5.524\n",
       "driver_race                5.524\n",
       "violation_raw              5.524\n",
       "violation                  5.524\n",
       "search_conducted           0.004\n",
       "search_type_raw           96.450\n",
       "search_type               96.450\n",
       "contraband_found           0.000\n",
       "stop_outcome               5.524\n",
       "is_arrested                5.524\n",
       "stop_duration              5.524\n",
       "out_of_state               5.702\n",
       "drugs_related_stop         0.000\n",
       "district                   0.000\n",
       "dtype: float64"
      ]
     },
     "execution_count": 10,
     "metadata": {},
     "output_type": "execute_result"
    }
   ],
   "source": [
    "ri.isnull().mean()*100"
   ]
  },
  {
   "cell_type": "code",
   "execution_count": 30,
   "metadata": {
    "scrolled": true
   },
   "outputs": [
    {
     "data": {
      "text/plain": [
       "(50000, 26)"
      ]
     },
     "execution_count": 30,
     "metadata": {},
     "output_type": "execute_result"
    }
   ],
   "source": [
    "ri.shape"
   ]
  },
  {
   "cell_type": "code",
   "execution_count": 31,
   "metadata": {},
   "outputs": [],
   "source": [
    "ri.drop([\"county_name\",\"state\"], axis=1, inplace=True) "
   ]
  },
  {
   "cell_type": "code",
   "execution_count": 32,
   "metadata": {},
   "outputs": [
    {
     "data": {
      "text/plain": [
       "(50000, 24)"
      ]
     },
     "execution_count": 32,
     "metadata": {},
     "output_type": "execute_result"
    }
   ],
   "source": [
    "ri.shape"
   ]
  },
  {
   "cell_type": "code",
   "execution_count": 33,
   "metadata": {
    "scrolled": true
   },
   "outputs": [
    {
     "data": {
      "text/plain": [
       "id                           0\n",
       "stop_date                    3\n",
       "stop_time                    3\n",
       "location_raw                 0\n",
       "county_fips              50000\n",
       "fine_grained_location    50000\n",
       "police_department            3\n",
       "driver_gender             2914\n",
       "driver_age_raw            2908\n",
       "driver_age                3065\n",
       "driver_race_raw           2911\n",
       "driver_race               2911\n",
       "violation_raw             2911\n",
       "violation                 2911\n",
       "search_conducted             3\n",
       "search_type_raw          48328\n",
       "search_type              48328\n",
       "contraband_found             0\n",
       "stop_outcome              2911\n",
       "is_arrested               2911\n",
       "stop_duration             2911\n",
       "out_of_state              2984\n",
       "drugs_related_stop           0\n",
       "district                     0\n",
       "dtype: int64"
      ]
     },
     "execution_count": 33,
     "metadata": {},
     "output_type": "execute_result"
    }
   ],
   "source": [
    "ri.isnull().sum()"
   ]
  },
  {
   "cell_type": "code",
   "execution_count": 34,
   "metadata": {},
   "outputs": [
    {
     "data": {
      "text/plain": [
       "219717      M\n",
       "408523      M\n",
       "506435      M\n",
       "156372      F\n",
       "283994      F\n",
       "         ... \n",
       "397334      M\n",
       "338592      F\n",
       "270628    NaN\n",
       "123392      M\n",
       "280266      F\n",
       "Name: driver_gender, Length: 50000, dtype: object"
      ]
     },
     "execution_count": 34,
     "metadata": {},
     "output_type": "execute_result"
    }
   ],
   "source": [
    "ri[\"driver_gender\"]"
   ]
  },
  {
   "cell_type": "code",
   "execution_count": 51,
   "metadata": {},
   "outputs": [],
   "source": [
    "ri.dropna(subset=[\"driver_gender\"], inplace=True)"
   ]
  },
  {
   "cell_type": "code",
   "execution_count": 53,
   "metadata": {},
   "outputs": [
    {
     "data": {
      "text/plain": [
       "id                           0\n",
       "stop_date                    0\n",
       "stop_time                    0\n",
       "location_raw                 0\n",
       "county_fips              47086\n",
       "fine_grained_location    47086\n",
       "police_department            0\n",
       "driver_gender                0\n",
       "driver_age_raw               0\n",
       "driver_age                 156\n",
       "driver_race_raw              0\n",
       "driver_race                  0\n",
       "violation_raw                0\n",
       "violation                    0\n",
       "search_conducted             0\n",
       "search_type_raw          45414\n",
       "search_type              45414\n",
       "contraband_found             0\n",
       "stop_outcome                 0\n",
       "is_arrested                  0\n",
       "stop_duration                0\n",
       "out_of_state                73\n",
       "drugs_related_stop           0\n",
       "district                     0\n",
       "dtype: int64"
      ]
     },
     "execution_count": 53,
     "metadata": {},
     "output_type": "execute_result"
    }
   ],
   "source": [
    "ri.isnull().sum()"
   ]
  },
  {
   "cell_type": "code",
   "execution_count": 52,
   "metadata": {
    "scrolled": false
   },
   "outputs": [
    {
     "data": {
      "text/plain": [
       "(47086, 24)"
      ]
     },
     "execution_count": 52,
     "metadata": {},
     "output_type": "execute_result"
    }
   ],
   "source": [
    "ri.shape"
   ]
  },
  {
   "cell_type": "markdown",
   "metadata": {},
   "source": [
    "***"
   ]
  },
  {
   "cell_type": "markdown",
   "metadata": {},
   "source": [
    "## Fixing a data type"
   ]
  },
  {
   "cell_type": "code",
   "execution_count": 61,
   "metadata": {},
   "outputs": [],
   "source": [
    "a = ri[\"is_arrested\"]"
   ]
  },
  {
   "cell_type": "code",
   "execution_count": 67,
   "metadata": {},
   "outputs": [
    {
     "data": {
      "text/plain": [
       "dtype('O')"
      ]
     },
     "execution_count": 67,
     "metadata": {},
     "output_type": "execute_result"
    }
   ],
   "source": [
    "a.dtype"
   ]
  },
  {
   "cell_type": "code",
   "execution_count": 13,
   "metadata": {},
   "outputs": [
    {
     "data": {
      "text/plain": [
       "173275    False\n",
       "317108    False\n",
       "188466    False\n",
       "442181    False\n",
       "381030    False\n",
       "Name: is_arrested, dtype: object"
      ]
     },
     "execution_count": 13,
     "metadata": {},
     "output_type": "execute_result"
    }
   ],
   "source": [
    "ri[\"is_arrested\"].head()"
   ]
  },
  {
   "cell_type": "code",
   "execution_count": 17,
   "metadata": {},
   "outputs": [
    {
     "data": {
      "text/plain": [
       "False    45541\n",
       "True      1697\n",
       "Name: is_arrested, dtype: int64"
      ]
     },
     "execution_count": 17,
     "metadata": {},
     "output_type": "execute_result"
    }
   ],
   "source": [
    "ri.is_arrested.value_counts()"
   ]
  },
  {
   "cell_type": "code",
   "execution_count": 79,
   "metadata": {
    "scrolled": true
   },
   "outputs": [
    {
     "data": {
      "text/plain": [
       "dtype('O')"
      ]
     },
     "execution_count": 79,
     "metadata": {},
     "output_type": "execute_result"
    }
   ],
   "source": [
    "ri[\"is_arrested\"].dtype"
   ]
  },
  {
   "cell_type": "code",
   "execution_count": 100,
   "metadata": {
    "scrolled": true
   },
   "outputs": [],
   "source": [
    "ri2 = ri.astype({\"is_arrested\" : \"bool\"}, copy=False)"
   ]
  },
  {
   "cell_type": "code",
   "execution_count": 101,
   "metadata": {},
   "outputs": [
    {
     "data": {
      "text/plain": [
       "dtype('bool')"
      ]
     },
     "execution_count": 101,
     "metadata": {},
     "output_type": "execute_result"
    }
   ],
   "source": [
    "ri2[\"is_arrested\"].dtypes"
   ]
  },
  {
   "cell_type": "markdown",
   "metadata": {},
   "source": [
    "***"
   ]
  },
  {
   "cell_type": "markdown",
   "metadata": {},
   "source": [
    "## Combining object columns"
   ]
  },
  {
   "cell_type": "code",
   "execution_count": 114,
   "metadata": {},
   "outputs": [],
   "source": [
    "combined = ri2.stop_date.str.cat(ri2.stop_time, sep = \" \")"
   ]
  },
  {
   "cell_type": "code",
   "execution_count": 115,
   "metadata": {},
   "outputs": [
    {
     "data": {
      "text/plain": [
       "219717    2010-01-14 17:25\n",
       "408523    2013-12-02 23:35\n",
       "506435    2015-11-30 11:44\n",
       "156372    2008-08-17 21:32\n",
       "283994    2011-07-21 10:18\n",
       "                ...       \n",
       "446559    2014-08-27 23:29\n",
       "397334    2013-09-02 17:34\n",
       "338592    2012-06-14 13:15\n",
       "123392    2007-12-10 04:13\n",
       "280266    2011-06-23 07:05\n",
       "Name: stop_date, Length: 47086, dtype: object"
      ]
     },
     "execution_count": 115,
     "metadata": {},
     "output_type": "execute_result"
    }
   ],
   "source": [
    "combined"
   ]
  },
  {
   "cell_type": "code",
   "execution_count": 121,
   "metadata": {},
   "outputs": [],
   "source": [
    "combined = pd.to_datetime(combined)"
   ]
  },
  {
   "cell_type": "code",
   "execution_count": 122,
   "metadata": {},
   "outputs": [
    {
     "data": {
      "text/plain": [
       "219717   2010-01-14 17:25:00\n",
       "408523   2013-12-02 23:35:00\n",
       "506435   2015-11-30 11:44:00\n",
       "156372   2008-08-17 21:32:00\n",
       "283994   2011-07-21 10:18:00\n",
       "                 ...        \n",
       "446559   2014-08-27 23:29:00\n",
       "397334   2013-09-02 17:34:00\n",
       "338592   2012-06-14 13:15:00\n",
       "123392   2007-12-10 04:13:00\n",
       "280266   2011-06-23 07:05:00\n",
       "Name: stop_date, Length: 47086, dtype: datetime64[ns]"
      ]
     },
     "execution_count": 122,
     "metadata": {},
     "output_type": "execute_result"
    }
   ],
   "source": [
    "combined"
   ]
  },
  {
   "cell_type": "code",
   "execution_count": 123,
   "metadata": {},
   "outputs": [],
   "source": [
    "ri2[\"stop_datetime\"] = combined"
   ]
  },
  {
   "cell_type": "code",
   "execution_count": 125,
   "metadata": {
    "scrolled": false
   },
   "outputs": [
    {
     "data": {
      "text/plain": [
       "219717   2010-01-14 17:25:00\n",
       "408523   2013-12-02 23:35:00\n",
       "506435   2015-11-30 11:44:00\n",
       "156372   2008-08-17 21:32:00\n",
       "283994   2011-07-21 10:18:00\n",
       "                 ...        \n",
       "446559   2014-08-27 23:29:00\n",
       "397334   2013-09-02 17:34:00\n",
       "338592   2012-06-14 13:15:00\n",
       "123392   2007-12-10 04:13:00\n",
       "280266   2011-06-23 07:05:00\n",
       "Name: stop_datetime, Length: 47086, dtype: datetime64[ns]"
      ]
     },
     "execution_count": 125,
     "metadata": {},
     "output_type": "execute_result"
    }
   ],
   "source": [
    "ri2[\"stop_datetime\"]"
   ]
  },
  {
   "cell_type": "code",
   "execution_count": 126,
   "metadata": {},
   "outputs": [
    {
     "data": {
      "text/plain": [
       "id                               object\n",
       "stop_date                        object\n",
       "stop_time                        object\n",
       "location_raw                     object\n",
       "county_fips                     float64\n",
       "fine_grained_location           float64\n",
       "police_department                object\n",
       "driver_gender                    object\n",
       "driver_age_raw                  float64\n",
       "driver_age                      float64\n",
       "driver_race_raw                  object\n",
       "driver_race                      object\n",
       "violation_raw                    object\n",
       "violation                        object\n",
       "search_conducted                 object\n",
       "search_type_raw                  object\n",
       "search_type                      object\n",
       "contraband_found                   bool\n",
       "stop_outcome                     object\n",
       "is_arrested                        bool\n",
       "stop_duration                    object\n",
       "out_of_state                     object\n",
       "drugs_related_stop                 bool\n",
       "district                         object\n",
       "stop_datetime            datetime64[ns]\n",
       "dtype: object"
      ]
     },
     "execution_count": 126,
     "metadata": {},
     "output_type": "execute_result"
    }
   ],
   "source": [
    "ri2.dtypes"
   ]
  },
  {
   "cell_type": "code",
   "execution_count": 130,
   "metadata": {},
   "outputs": [],
   "source": [
    "ri2.set_index(\"stop_datetime\", inplace=True)"
   ]
  },
  {
   "cell_type": "code",
   "execution_count": 137,
   "metadata": {},
   "outputs": [
    {
     "data": {
      "text/plain": [
       "DatetimeIndex(['2010-01-14 17:25:00', '2013-12-02 23:35:00',\n",
       "               '2015-11-30 11:44:00', '2008-08-17 21:32:00',\n",
       "               '2011-07-21 10:18:00', '2013-05-26 10:43:00',\n",
       "               '2015-06-09 00:26:00', '2010-09-27 07:45:00',\n",
       "               '2005-10-01 22:00:00', '2013-05-11 13:48:00',\n",
       "               ...\n",
       "               '2010-06-06 14:40:00', '2005-10-01 15:30:00',\n",
       "               '2012-09-09 14:08:00', '2008-02-16 09:22:00',\n",
       "               '2007-10-22 08:30:00', '2014-08-27 23:29:00',\n",
       "               '2013-09-02 17:34:00', '2012-06-14 13:15:00',\n",
       "               '2007-12-10 04:13:00', '2011-06-23 07:05:00'],\n",
       "              dtype='datetime64[ns]', name='stop_datetime', length=47086, freq=None)"
      ]
     },
     "execution_count": 137,
     "metadata": {},
     "output_type": "execute_result"
    }
   ],
   "source": [
    "ri2.index"
   ]
  },
  {
   "cell_type": "code",
   "execution_count": 136,
   "metadata": {},
   "outputs": [
    {
     "data": {
      "text/html": [
       "<div>\n",
       "<style scoped>\n",
       "    .dataframe tbody tr th:only-of-type {\n",
       "        vertical-align: middle;\n",
       "    }\n",
       "\n",
       "    .dataframe tbody tr th {\n",
       "        vertical-align: top;\n",
       "    }\n",
       "\n",
       "    .dataframe thead th {\n",
       "        text-align: right;\n",
       "    }\n",
       "</style>\n",
       "<table border=\"1\" class=\"dataframe\">\n",
       "  <thead>\n",
       "    <tr style=\"text-align: right;\">\n",
       "      <th></th>\n",
       "      <th>id</th>\n",
       "      <th>stop_date</th>\n",
       "      <th>stop_time</th>\n",
       "      <th>location_raw</th>\n",
       "      <th>county_fips</th>\n",
       "      <th>fine_grained_location</th>\n",
       "      <th>police_department</th>\n",
       "      <th>driver_gender</th>\n",
       "      <th>driver_age_raw</th>\n",
       "      <th>driver_age</th>\n",
       "      <th>...</th>\n",
       "      <th>search_conducted</th>\n",
       "      <th>search_type_raw</th>\n",
       "      <th>search_type</th>\n",
       "      <th>contraband_found</th>\n",
       "      <th>stop_outcome</th>\n",
       "      <th>is_arrested</th>\n",
       "      <th>stop_duration</th>\n",
       "      <th>out_of_state</th>\n",
       "      <th>drugs_related_stop</th>\n",
       "      <th>district</th>\n",
       "    </tr>\n",
       "    <tr>\n",
       "      <th>stop_datetime</th>\n",
       "      <th></th>\n",
       "      <th></th>\n",
       "      <th></th>\n",
       "      <th></th>\n",
       "      <th></th>\n",
       "      <th></th>\n",
       "      <th></th>\n",
       "      <th></th>\n",
       "      <th></th>\n",
       "      <th></th>\n",
       "      <th></th>\n",
       "      <th></th>\n",
       "      <th></th>\n",
       "      <th></th>\n",
       "      <th></th>\n",
       "      <th></th>\n",
       "      <th></th>\n",
       "      <th></th>\n",
       "      <th></th>\n",
       "      <th></th>\n",
       "      <th></th>\n",
       "    </tr>\n",
       "  </thead>\n",
       "  <tbody>\n",
       "    <tr>\n",
       "      <th>2010-01-14 17:25:00</th>\n",
       "      <td>RI-2010-01621</td>\n",
       "      <td>2010-01-14</td>\n",
       "      <td>17:25</td>\n",
       "      <td>Zone K1</td>\n",
       "      <td>NaN</td>\n",
       "      <td>NaN</td>\n",
       "      <td>600</td>\n",
       "      <td>M</td>\n",
       "      <td>1982.0</td>\n",
       "      <td>28.0</td>\n",
       "      <td>...</td>\n",
       "      <td>False</td>\n",
       "      <td>NaN</td>\n",
       "      <td>NaN</td>\n",
       "      <td>False</td>\n",
       "      <td>N/D</td>\n",
       "      <td>False</td>\n",
       "      <td>0-15 Min</td>\n",
       "      <td>False</td>\n",
       "      <td>False</td>\n",
       "      <td>Zone K1</td>\n",
       "    </tr>\n",
       "    <tr>\n",
       "      <th>2013-12-02 23:35:00</th>\n",
       "      <td>RI-2013-41414</td>\n",
       "      <td>2013-12-02</td>\n",
       "      <td>23:35</td>\n",
       "      <td>Zone K3</td>\n",
       "      <td>NaN</td>\n",
       "      <td>NaN</td>\n",
       "      <td>300</td>\n",
       "      <td>M</td>\n",
       "      <td>1991.0</td>\n",
       "      <td>22.0</td>\n",
       "      <td>...</td>\n",
       "      <td>False</td>\n",
       "      <td>NaN</td>\n",
       "      <td>NaN</td>\n",
       "      <td>False</td>\n",
       "      <td>Citation</td>\n",
       "      <td>False</td>\n",
       "      <td>0-15 Min</td>\n",
       "      <td>True</td>\n",
       "      <td>False</td>\n",
       "      <td>Zone K3</td>\n",
       "    </tr>\n",
       "    <tr>\n",
       "      <th>2015-11-30 11:44:00</th>\n",
       "      <td>RI-2015-43830</td>\n",
       "      <td>2015-11-30</td>\n",
       "      <td>11:44</td>\n",
       "      <td>Zone X1</td>\n",
       "      <td>NaN</td>\n",
       "      <td>NaN</td>\n",
       "      <td>0</td>\n",
       "      <td>M</td>\n",
       "      <td>1982.0</td>\n",
       "      <td>33.0</td>\n",
       "      <td>...</td>\n",
       "      <td>False</td>\n",
       "      <td>NaN</td>\n",
       "      <td>NaN</td>\n",
       "      <td>False</td>\n",
       "      <td>Warning</td>\n",
       "      <td>False</td>\n",
       "      <td>30+ Min</td>\n",
       "      <td>False</td>\n",
       "      <td>False</td>\n",
       "      <td>Zone X1</td>\n",
       "    </tr>\n",
       "    <tr>\n",
       "      <th>2008-08-17 21:32:00</th>\n",
       "      <td>RI-2008-30748</td>\n",
       "      <td>2008-08-17</td>\n",
       "      <td>21:32</td>\n",
       "      <td>Zone K3</td>\n",
       "      <td>NaN</td>\n",
       "      <td>NaN</td>\n",
       "      <td>300</td>\n",
       "      <td>F</td>\n",
       "      <td>1989.0</td>\n",
       "      <td>19.0</td>\n",
       "      <td>...</td>\n",
       "      <td>False</td>\n",
       "      <td>NaN</td>\n",
       "      <td>NaN</td>\n",
       "      <td>False</td>\n",
       "      <td>Citation</td>\n",
       "      <td>False</td>\n",
       "      <td>0-15 Min</td>\n",
       "      <td>True</td>\n",
       "      <td>False</td>\n",
       "      <td>Zone K3</td>\n",
       "    </tr>\n",
       "    <tr>\n",
       "      <th>2011-07-21 10:18:00</th>\n",
       "      <td>RI-2011-23507</td>\n",
       "      <td>2011-07-21</td>\n",
       "      <td>10:18</td>\n",
       "      <td>Zone X3</td>\n",
       "      <td>NaN</td>\n",
       "      <td>NaN</td>\n",
       "      <td>200</td>\n",
       "      <td>F</td>\n",
       "      <td>1988.0</td>\n",
       "      <td>23.0</td>\n",
       "      <td>...</td>\n",
       "      <td>False</td>\n",
       "      <td>NaN</td>\n",
       "      <td>NaN</td>\n",
       "      <td>False</td>\n",
       "      <td>Citation</td>\n",
       "      <td>False</td>\n",
       "      <td>0-15 Min</td>\n",
       "      <td>True</td>\n",
       "      <td>False</td>\n",
       "      <td>Zone X3</td>\n",
       "    </tr>\n",
       "    <tr>\n",
       "      <th>...</th>\n",
       "      <td>...</td>\n",
       "      <td>...</td>\n",
       "      <td>...</td>\n",
       "      <td>...</td>\n",
       "      <td>...</td>\n",
       "      <td>...</td>\n",
       "      <td>...</td>\n",
       "      <td>...</td>\n",
       "      <td>...</td>\n",
       "      <td>...</td>\n",
       "      <td>...</td>\n",
       "      <td>...</td>\n",
       "      <td>...</td>\n",
       "      <td>...</td>\n",
       "      <td>...</td>\n",
       "      <td>...</td>\n",
       "      <td>...</td>\n",
       "      <td>...</td>\n",
       "      <td>...</td>\n",
       "      <td>...</td>\n",
       "      <td>...</td>\n",
       "    </tr>\n",
       "    <tr>\n",
       "      <th>2014-08-27 23:29:00</th>\n",
       "      <td>RI-2014-34764</td>\n",
       "      <td>2014-08-27</td>\n",
       "      <td>23:29</td>\n",
       "      <td>Zone K3</td>\n",
       "      <td>NaN</td>\n",
       "      <td>NaN</td>\n",
       "      <td>300</td>\n",
       "      <td>M</td>\n",
       "      <td>1959.0</td>\n",
       "      <td>55.0</td>\n",
       "      <td>...</td>\n",
       "      <td>False</td>\n",
       "      <td>NaN</td>\n",
       "      <td>NaN</td>\n",
       "      <td>False</td>\n",
       "      <td>Warning</td>\n",
       "      <td>False</td>\n",
       "      <td>16-30 Min</td>\n",
       "      <td>False</td>\n",
       "      <td>False</td>\n",
       "      <td>Zone K3</td>\n",
       "    </tr>\n",
       "    <tr>\n",
       "      <th>2013-09-02 17:34:00</th>\n",
       "      <td>RI-2013-30225</td>\n",
       "      <td>2013-09-02</td>\n",
       "      <td>17:34</td>\n",
       "      <td>Zone X3</td>\n",
       "      <td>NaN</td>\n",
       "      <td>NaN</td>\n",
       "      <td>200</td>\n",
       "      <td>M</td>\n",
       "      <td>1958.0</td>\n",
       "      <td>55.0</td>\n",
       "      <td>...</td>\n",
       "      <td>False</td>\n",
       "      <td>NaN</td>\n",
       "      <td>NaN</td>\n",
       "      <td>False</td>\n",
       "      <td>Arrest Driver</td>\n",
       "      <td>True</td>\n",
       "      <td>30+ Min</td>\n",
       "      <td>True</td>\n",
       "      <td>False</td>\n",
       "      <td>Zone X3</td>\n",
       "    </tr>\n",
       "    <tr>\n",
       "      <th>2012-06-14 13:15:00</th>\n",
       "      <td>RI-2012-32311</td>\n",
       "      <td>2012-06-14</td>\n",
       "      <td>13:15</td>\n",
       "      <td>Zone K3</td>\n",
       "      <td>NaN</td>\n",
       "      <td>NaN</td>\n",
       "      <td>300</td>\n",
       "      <td>F</td>\n",
       "      <td>1977.0</td>\n",
       "      <td>35.0</td>\n",
       "      <td>...</td>\n",
       "      <td>False</td>\n",
       "      <td>NaN</td>\n",
       "      <td>NaN</td>\n",
       "      <td>False</td>\n",
       "      <td>Warning</td>\n",
       "      <td>False</td>\n",
       "      <td>0-15 Min</td>\n",
       "      <td>True</td>\n",
       "      <td>False</td>\n",
       "      <td>Zone K3</td>\n",
       "    </tr>\n",
       "    <tr>\n",
       "      <th>2007-12-10 04:13:00</th>\n",
       "      <td>RI-2007-50971</td>\n",
       "      <td>2007-12-10</td>\n",
       "      <td>04:13</td>\n",
       "      <td>Zone X4</td>\n",
       "      <td>NaN</td>\n",
       "      <td>NaN</td>\n",
       "      <td>500</td>\n",
       "      <td>M</td>\n",
       "      <td>1967.0</td>\n",
       "      <td>40.0</td>\n",
       "      <td>...</td>\n",
       "      <td>False</td>\n",
       "      <td>NaN</td>\n",
       "      <td>NaN</td>\n",
       "      <td>False</td>\n",
       "      <td>Citation</td>\n",
       "      <td>False</td>\n",
       "      <td>0-15 Min</td>\n",
       "      <td>True</td>\n",
       "      <td>False</td>\n",
       "      <td>Zone X4</td>\n",
       "    </tr>\n",
       "    <tr>\n",
       "      <th>2011-06-23 07:05:00</th>\n",
       "      <td>RI-2011-19779</td>\n",
       "      <td>2011-06-23</td>\n",
       "      <td>07:05</td>\n",
       "      <td>Zone K3</td>\n",
       "      <td>NaN</td>\n",
       "      <td>NaN</td>\n",
       "      <td>300</td>\n",
       "      <td>F</td>\n",
       "      <td>1986.0</td>\n",
       "      <td>25.0</td>\n",
       "      <td>...</td>\n",
       "      <td>False</td>\n",
       "      <td>NaN</td>\n",
       "      <td>NaN</td>\n",
       "      <td>False</td>\n",
       "      <td>Citation</td>\n",
       "      <td>False</td>\n",
       "      <td>0-15 Min</td>\n",
       "      <td>False</td>\n",
       "      <td>False</td>\n",
       "      <td>Zone K3</td>\n",
       "    </tr>\n",
       "  </tbody>\n",
       "</table>\n",
       "<p>47086 rows × 24 columns</p>\n",
       "</div>"
      ],
      "text/plain": [
       "                                id   stop_date stop_time location_raw  \\\n",
       "stop_datetime                                                           \n",
       "2010-01-14 17:25:00  RI-2010-01621  2010-01-14     17:25      Zone K1   \n",
       "2013-12-02 23:35:00  RI-2013-41414  2013-12-02     23:35      Zone K3   \n",
       "2015-11-30 11:44:00  RI-2015-43830  2015-11-30     11:44      Zone X1   \n",
       "2008-08-17 21:32:00  RI-2008-30748  2008-08-17     21:32      Zone K3   \n",
       "2011-07-21 10:18:00  RI-2011-23507  2011-07-21     10:18      Zone X3   \n",
       "...                            ...         ...       ...          ...   \n",
       "2014-08-27 23:29:00  RI-2014-34764  2014-08-27     23:29      Zone K3   \n",
       "2013-09-02 17:34:00  RI-2013-30225  2013-09-02     17:34      Zone X3   \n",
       "2012-06-14 13:15:00  RI-2012-32311  2012-06-14     13:15      Zone K3   \n",
       "2007-12-10 04:13:00  RI-2007-50971  2007-12-10     04:13      Zone X4   \n",
       "2011-06-23 07:05:00  RI-2011-19779  2011-06-23     07:05      Zone K3   \n",
       "\n",
       "                     county_fips  fine_grained_location police_department  \\\n",
       "stop_datetime                                                               \n",
       "2010-01-14 17:25:00          NaN                    NaN               600   \n",
       "2013-12-02 23:35:00          NaN                    NaN               300   \n",
       "2015-11-30 11:44:00          NaN                    NaN                 0   \n",
       "2008-08-17 21:32:00          NaN                    NaN               300   \n",
       "2011-07-21 10:18:00          NaN                    NaN               200   \n",
       "...                          ...                    ...               ...   \n",
       "2014-08-27 23:29:00          NaN                    NaN               300   \n",
       "2013-09-02 17:34:00          NaN                    NaN               200   \n",
       "2012-06-14 13:15:00          NaN                    NaN               300   \n",
       "2007-12-10 04:13:00          NaN                    NaN               500   \n",
       "2011-06-23 07:05:00          NaN                    NaN               300   \n",
       "\n",
       "                    driver_gender  driver_age_raw  driver_age  ...  \\\n",
       "stop_datetime                                                  ...   \n",
       "2010-01-14 17:25:00             M          1982.0        28.0  ...   \n",
       "2013-12-02 23:35:00             M          1991.0        22.0  ...   \n",
       "2015-11-30 11:44:00             M          1982.0        33.0  ...   \n",
       "2008-08-17 21:32:00             F          1989.0        19.0  ...   \n",
       "2011-07-21 10:18:00             F          1988.0        23.0  ...   \n",
       "...                           ...             ...         ...  ...   \n",
       "2014-08-27 23:29:00             M          1959.0        55.0  ...   \n",
       "2013-09-02 17:34:00             M          1958.0        55.0  ...   \n",
       "2012-06-14 13:15:00             F          1977.0        35.0  ...   \n",
       "2007-12-10 04:13:00             M          1967.0        40.0  ...   \n",
       "2011-06-23 07:05:00             F          1986.0        25.0  ...   \n",
       "\n",
       "                    search_conducted search_type_raw search_type  \\\n",
       "stop_datetime                                                      \n",
       "2010-01-14 17:25:00            False             NaN         NaN   \n",
       "2013-12-02 23:35:00            False             NaN         NaN   \n",
       "2015-11-30 11:44:00            False             NaN         NaN   \n",
       "2008-08-17 21:32:00            False             NaN         NaN   \n",
       "2011-07-21 10:18:00            False             NaN         NaN   \n",
       "...                              ...             ...         ...   \n",
       "2014-08-27 23:29:00            False             NaN         NaN   \n",
       "2013-09-02 17:34:00            False             NaN         NaN   \n",
       "2012-06-14 13:15:00            False             NaN         NaN   \n",
       "2007-12-10 04:13:00            False             NaN         NaN   \n",
       "2011-06-23 07:05:00            False             NaN         NaN   \n",
       "\n",
       "                    contraband_found   stop_outcome is_arrested stop_duration  \\\n",
       "stop_datetime                                                                   \n",
       "2010-01-14 17:25:00            False            N/D       False      0-15 Min   \n",
       "2013-12-02 23:35:00            False       Citation       False      0-15 Min   \n",
       "2015-11-30 11:44:00            False        Warning       False       30+ Min   \n",
       "2008-08-17 21:32:00            False       Citation       False      0-15 Min   \n",
       "2011-07-21 10:18:00            False       Citation       False      0-15 Min   \n",
       "...                              ...            ...         ...           ...   \n",
       "2014-08-27 23:29:00            False        Warning       False     16-30 Min   \n",
       "2013-09-02 17:34:00            False  Arrest Driver        True       30+ Min   \n",
       "2012-06-14 13:15:00            False        Warning       False      0-15 Min   \n",
       "2007-12-10 04:13:00            False       Citation       False      0-15 Min   \n",
       "2011-06-23 07:05:00            False       Citation       False      0-15 Min   \n",
       "\n",
       "                     out_of_state drugs_related_stop  district  \n",
       "stop_datetime                                                   \n",
       "2010-01-14 17:25:00         False              False   Zone K1  \n",
       "2013-12-02 23:35:00          True              False   Zone K3  \n",
       "2015-11-30 11:44:00         False              False   Zone X1  \n",
       "2008-08-17 21:32:00          True              False   Zone K3  \n",
       "2011-07-21 10:18:00          True              False   Zone X3  \n",
       "...                           ...                ...       ...  \n",
       "2014-08-27 23:29:00         False              False   Zone K3  \n",
       "2013-09-02 17:34:00          True              False   Zone X3  \n",
       "2012-06-14 13:15:00          True              False   Zone K3  \n",
       "2007-12-10 04:13:00          True              False   Zone X4  \n",
       "2011-06-23 07:05:00         False              False   Zone K3  \n",
       "\n",
       "[47086 rows x 24 columns]"
      ]
     },
     "execution_count": 136,
     "metadata": {},
     "output_type": "execute_result"
    }
   ],
   "source": [
    "ri2"
   ]
  }
 ],
 "metadata": {
  "kernelspec": {
   "display_name": "Python 3",
   "language": "python",
   "name": "python3"
  },
  "language_info": {
   "codemirror_mode": {
    "name": "ipython",
    "version": 3
   },
   "file_extension": ".py",
   "mimetype": "text/x-python",
   "name": "python",
   "nbconvert_exporter": "python",
   "pygments_lexer": "ipython3",
   "version": "3.8.3"
  }
 },
 "nbformat": 4,
 "nbformat_minor": 4
}
