{
 "cells": [
  {
   "cell_type": "markdown",
   "metadata": {},
   "source": [
    "## Calculating the hourly arrest rate"
   ]
  },
  {
   "cell_type": "code",
   "execution_count": 1,
   "metadata": {},
   "outputs": [],
   "source": [
    "import pandas as pd"
   ]
  },
  {
   "cell_type": "code",
   "execution_count": 2,
   "metadata": {},
   "outputs": [
    {
     "name": "stderr",
     "output_type": "stream",
     "text": [
      "C:\\Anaconda3\\lib\\site-packages\\IPython\\core\\interactiveshell.py:3071: DtypeWarning: Columns (8,16) have mixed types.Specify dtype option on import or set low_memory=False.\n",
      "  has_raised = await self.run_ast_nodes(code_ast.body, cell_name,\n"
     ]
    }
   ],
   "source": [
    "dosya = pd.read_csv(\"police.csv\")"
   ]
  },
  {
   "cell_type": "code",
   "execution_count": 3,
   "metadata": {},
   "outputs": [],
   "source": [
    "buyuk = pd.DataFrame(dosya)"
   ]
  },
  {
   "cell_type": "code",
   "execution_count": 4,
   "metadata": {},
   "outputs": [],
   "source": [
    "ri = buyuk.sample(50000)"
   ]
  },
  {
   "cell_type": "code",
   "execution_count": 5,
   "metadata": {},
   "outputs": [],
   "source": [
    "ri.drop([\"county_name\",\"state\"], axis=1, inplace=True) "
   ]
  },
  {
   "cell_type": "code",
   "execution_count": 6,
   "metadata": {},
   "outputs": [],
   "source": [
    "ri.dropna(subset=[\"driver_gender\"], inplace=True)"
   ]
  },
  {
   "cell_type": "code",
   "execution_count": 7,
   "metadata": {
    "scrolled": true
   },
   "outputs": [],
   "source": [
    "ri2 = ri.astype({\"is_arrested\" : \"bool\"}, copy=False)"
   ]
  },
  {
   "cell_type": "code",
   "execution_count": 8,
   "metadata": {},
   "outputs": [
    {
     "data": {
      "text/plain": [
       "dtype('bool')"
      ]
     },
     "execution_count": 8,
     "metadata": {},
     "output_type": "execute_result"
    }
   ],
   "source": [
    "ri2[\"is_arrested\"].dtypes"
   ]
  },
  {
   "cell_type": "code",
   "execution_count": 9,
   "metadata": {},
   "outputs": [],
   "source": [
    "combined = ri2.stop_date.str.cat(ri2.stop_time, sep = \" \")"
   ]
  },
  {
   "cell_type": "code",
   "execution_count": 10,
   "metadata": {},
   "outputs": [],
   "source": [
    "combined = pd.to_datetime(combined)"
   ]
  },
  {
   "cell_type": "code",
   "execution_count": 11,
   "metadata": {},
   "outputs": [],
   "source": [
    "ri2[\"stop_datetime\"] = combined"
   ]
  },
  {
   "cell_type": "code",
   "execution_count": 12,
   "metadata": {},
   "outputs": [],
   "source": [
    "ri2.set_index(\"stop_datetime\", inplace=True)"
   ]
  },
  {
   "cell_type": "code",
   "execution_count": 13,
   "metadata": {
    "scrolled": true
   },
   "outputs": [
    {
     "data": {
      "text/html": [
       "<div>\n",
       "<style scoped>\n",
       "    .dataframe tbody tr th:only-of-type {\n",
       "        vertical-align: middle;\n",
       "    }\n",
       "\n",
       "    .dataframe tbody tr th {\n",
       "        vertical-align: top;\n",
       "    }\n",
       "\n",
       "    .dataframe thead th {\n",
       "        text-align: right;\n",
       "    }\n",
       "</style>\n",
       "<table border=\"1\" class=\"dataframe\">\n",
       "  <thead>\n",
       "    <tr style=\"text-align: right;\">\n",
       "      <th></th>\n",
       "      <th>id</th>\n",
       "      <th>stop_date</th>\n",
       "      <th>stop_time</th>\n",
       "      <th>location_raw</th>\n",
       "      <th>county_fips</th>\n",
       "      <th>fine_grained_location</th>\n",
       "      <th>police_department</th>\n",
       "      <th>driver_gender</th>\n",
       "      <th>driver_age_raw</th>\n",
       "      <th>driver_age</th>\n",
       "      <th>...</th>\n",
       "      <th>search_conducted</th>\n",
       "      <th>search_type_raw</th>\n",
       "      <th>search_type</th>\n",
       "      <th>contraband_found</th>\n",
       "      <th>stop_outcome</th>\n",
       "      <th>is_arrested</th>\n",
       "      <th>stop_duration</th>\n",
       "      <th>out_of_state</th>\n",
       "      <th>drugs_related_stop</th>\n",
       "      <th>district</th>\n",
       "    </tr>\n",
       "    <tr>\n",
       "      <th>stop_datetime</th>\n",
       "      <th></th>\n",
       "      <th></th>\n",
       "      <th></th>\n",
       "      <th></th>\n",
       "      <th></th>\n",
       "      <th></th>\n",
       "      <th></th>\n",
       "      <th></th>\n",
       "      <th></th>\n",
       "      <th></th>\n",
       "      <th></th>\n",
       "      <th></th>\n",
       "      <th></th>\n",
       "      <th></th>\n",
       "      <th></th>\n",
       "      <th></th>\n",
       "      <th></th>\n",
       "      <th></th>\n",
       "      <th></th>\n",
       "      <th></th>\n",
       "      <th></th>\n",
       "    </tr>\n",
       "  </thead>\n",
       "  <tbody>\n",
       "    <tr>\n",
       "      <th>2007-05-26 02:25:00</th>\n",
       "      <td>RI-2007-23004</td>\n",
       "      <td>2007-05-26</td>\n",
       "      <td>02:25</td>\n",
       "      <td>Zone K2</td>\n",
       "      <td>NaN</td>\n",
       "      <td>NaN</td>\n",
       "      <td>900</td>\n",
       "      <td>F</td>\n",
       "      <td>1973.0</td>\n",
       "      <td>34.0</td>\n",
       "      <td>...</td>\n",
       "      <td>False</td>\n",
       "      <td>NaN</td>\n",
       "      <td>NaN</td>\n",
       "      <td>False</td>\n",
       "      <td>Citation</td>\n",
       "      <td>False</td>\n",
       "      <td>0-15 Min</td>\n",
       "      <td>False</td>\n",
       "      <td>False</td>\n",
       "      <td>Zone K2</td>\n",
       "    </tr>\n",
       "    <tr>\n",
       "      <th>2014-10-05 11:29:00</th>\n",
       "      <td>RI-2014-40388</td>\n",
       "      <td>2014-10-05</td>\n",
       "      <td>11:29</td>\n",
       "      <td>Zone X1</td>\n",
       "      <td>NaN</td>\n",
       "      <td>NaN</td>\n",
       "      <td>0</td>\n",
       "      <td>M</td>\n",
       "      <td>1980.0</td>\n",
       "      <td>34.0</td>\n",
       "      <td>...</td>\n",
       "      <td>False</td>\n",
       "      <td>NaN</td>\n",
       "      <td>NaN</td>\n",
       "      <td>False</td>\n",
       "      <td>Citation</td>\n",
       "      <td>False</td>\n",
       "      <td>0-15 Min</td>\n",
       "      <td>False</td>\n",
       "      <td>False</td>\n",
       "      <td>Zone X1</td>\n",
       "    </tr>\n",
       "    <tr>\n",
       "      <th>2012-07-05 13:33:00</th>\n",
       "      <td>RI-2012-36114</td>\n",
       "      <td>2012-07-05</td>\n",
       "      <td>13:33</td>\n",
       "      <td>Zone K2</td>\n",
       "      <td>NaN</td>\n",
       "      <td>NaN</td>\n",
       "      <td>900</td>\n",
       "      <td>M</td>\n",
       "      <td>1967.0</td>\n",
       "      <td>45.0</td>\n",
       "      <td>...</td>\n",
       "      <td>False</td>\n",
       "      <td>NaN</td>\n",
       "      <td>NaN</td>\n",
       "      <td>False</td>\n",
       "      <td>Citation</td>\n",
       "      <td>False</td>\n",
       "      <td>0-15 Min</td>\n",
       "      <td>True</td>\n",
       "      <td>False</td>\n",
       "      <td>Zone K2</td>\n",
       "    </tr>\n",
       "    <tr>\n",
       "      <th>2014-08-31 09:49:00</th>\n",
       "      <td>RI-2014-35337</td>\n",
       "      <td>2014-08-31</td>\n",
       "      <td>09:49</td>\n",
       "      <td>Zone K3</td>\n",
       "      <td>NaN</td>\n",
       "      <td>NaN</td>\n",
       "      <td>300</td>\n",
       "      <td>M</td>\n",
       "      <td>1981.0</td>\n",
       "      <td>33.0</td>\n",
       "      <td>...</td>\n",
       "      <td>False</td>\n",
       "      <td>NaN</td>\n",
       "      <td>NaN</td>\n",
       "      <td>False</td>\n",
       "      <td>Citation</td>\n",
       "      <td>False</td>\n",
       "      <td>0-15 Min</td>\n",
       "      <td>True</td>\n",
       "      <td>False</td>\n",
       "      <td>Zone K3</td>\n",
       "    </tr>\n",
       "    <tr>\n",
       "      <th>2009-03-04 06:55:00</th>\n",
       "      <td>RI-2009-08374</td>\n",
       "      <td>2009-03-04</td>\n",
       "      <td>06:55</td>\n",
       "      <td>Zone X4</td>\n",
       "      <td>NaN</td>\n",
       "      <td>NaN</td>\n",
       "      <td>500</td>\n",
       "      <td>M</td>\n",
       "      <td>1964.0</td>\n",
       "      <td>45.0</td>\n",
       "      <td>...</td>\n",
       "      <td>False</td>\n",
       "      <td>NaN</td>\n",
       "      <td>NaN</td>\n",
       "      <td>False</td>\n",
       "      <td>Citation</td>\n",
       "      <td>False</td>\n",
       "      <td>0-15 Min</td>\n",
       "      <td>False</td>\n",
       "      <td>False</td>\n",
       "      <td>Zone X4</td>\n",
       "    </tr>\n",
       "    <tr>\n",
       "      <th>...</th>\n",
       "      <td>...</td>\n",
       "      <td>...</td>\n",
       "      <td>...</td>\n",
       "      <td>...</td>\n",
       "      <td>...</td>\n",
       "      <td>...</td>\n",
       "      <td>...</td>\n",
       "      <td>...</td>\n",
       "      <td>...</td>\n",
       "      <td>...</td>\n",
       "      <td>...</td>\n",
       "      <td>...</td>\n",
       "      <td>...</td>\n",
       "      <td>...</td>\n",
       "      <td>...</td>\n",
       "      <td>...</td>\n",
       "      <td>...</td>\n",
       "      <td>...</td>\n",
       "      <td>...</td>\n",
       "      <td>...</td>\n",
       "      <td>...</td>\n",
       "    </tr>\n",
       "    <tr>\n",
       "      <th>2005-12-28 01:33:00</th>\n",
       "      <td>RI-2005-13478</td>\n",
       "      <td>2005-12-28</td>\n",
       "      <td>01:33</td>\n",
       "      <td>Zone K3</td>\n",
       "      <td>NaN</td>\n",
       "      <td>NaN</td>\n",
       "      <td>300</td>\n",
       "      <td>M</td>\n",
       "      <td>1981.0</td>\n",
       "      <td>24.0</td>\n",
       "      <td>...</td>\n",
       "      <td>False</td>\n",
       "      <td>NaN</td>\n",
       "      <td>NaN</td>\n",
       "      <td>False</td>\n",
       "      <td>Citation</td>\n",
       "      <td>False</td>\n",
       "      <td>0-15 Min</td>\n",
       "      <td>False</td>\n",
       "      <td>False</td>\n",
       "      <td>Zone K3</td>\n",
       "    </tr>\n",
       "    <tr>\n",
       "      <th>2015-10-31 22:42:00</th>\n",
       "      <td>RI-2015-40068</td>\n",
       "      <td>2015-10-31</td>\n",
       "      <td>22:42</td>\n",
       "      <td>Zone K3</td>\n",
       "      <td>NaN</td>\n",
       "      <td>NaN</td>\n",
       "      <td>300</td>\n",
       "      <td>M</td>\n",
       "      <td>1984.0</td>\n",
       "      <td>31.0</td>\n",
       "      <td>...</td>\n",
       "      <td>False</td>\n",
       "      <td>NaN</td>\n",
       "      <td>NaN</td>\n",
       "      <td>False</td>\n",
       "      <td>Citation</td>\n",
       "      <td>False</td>\n",
       "      <td>0-15 Min</td>\n",
       "      <td>True</td>\n",
       "      <td>False</td>\n",
       "      <td>Zone K3</td>\n",
       "    </tr>\n",
       "    <tr>\n",
       "      <th>2013-05-23 01:21:00</th>\n",
       "      <td>RI-2013-17239</td>\n",
       "      <td>2013-05-23</td>\n",
       "      <td>01:21</td>\n",
       "      <td>Zone K3</td>\n",
       "      <td>NaN</td>\n",
       "      <td>NaN</td>\n",
       "      <td>300</td>\n",
       "      <td>M</td>\n",
       "      <td>1986.0</td>\n",
       "      <td>27.0</td>\n",
       "      <td>...</td>\n",
       "      <td>False</td>\n",
       "      <td>NaN</td>\n",
       "      <td>NaN</td>\n",
       "      <td>False</td>\n",
       "      <td>Citation</td>\n",
       "      <td>False</td>\n",
       "      <td>16-30 Min</td>\n",
       "      <td>False</td>\n",
       "      <td>False</td>\n",
       "      <td>Zone K3</td>\n",
       "    </tr>\n",
       "    <tr>\n",
       "      <th>2006-12-18 10:23:00</th>\n",
       "      <td>RI-2006-56580</td>\n",
       "      <td>2006-12-18</td>\n",
       "      <td>10:23</td>\n",
       "      <td>Zone K2</td>\n",
       "      <td>NaN</td>\n",
       "      <td>NaN</td>\n",
       "      <td>202</td>\n",
       "      <td>M</td>\n",
       "      <td>1986.0</td>\n",
       "      <td>20.0</td>\n",
       "      <td>...</td>\n",
       "      <td>False</td>\n",
       "      <td>NaN</td>\n",
       "      <td>NaN</td>\n",
       "      <td>False</td>\n",
       "      <td>Citation</td>\n",
       "      <td>False</td>\n",
       "      <td>0-15 Min</td>\n",
       "      <td>False</td>\n",
       "      <td>False</td>\n",
       "      <td>Zone K2</td>\n",
       "    </tr>\n",
       "    <tr>\n",
       "      <th>2011-07-09 11:09:00</th>\n",
       "      <td>RI-2011-22020</td>\n",
       "      <td>2011-07-09</td>\n",
       "      <td>11:09</td>\n",
       "      <td>Zone X4</td>\n",
       "      <td>NaN</td>\n",
       "      <td>NaN</td>\n",
       "      <td>500</td>\n",
       "      <td>M</td>\n",
       "      <td>1956.0</td>\n",
       "      <td>55.0</td>\n",
       "      <td>...</td>\n",
       "      <td>False</td>\n",
       "      <td>NaN</td>\n",
       "      <td>NaN</td>\n",
       "      <td>False</td>\n",
       "      <td>Citation</td>\n",
       "      <td>False</td>\n",
       "      <td>16-30 Min</td>\n",
       "      <td>False</td>\n",
       "      <td>False</td>\n",
       "      <td>Zone X4</td>\n",
       "    </tr>\n",
       "  </tbody>\n",
       "</table>\n",
       "<p>47176 rows × 24 columns</p>\n",
       "</div>"
      ],
      "text/plain": [
       "                                id   stop_date stop_time location_raw  \\\n",
       "stop_datetime                                                           \n",
       "2007-05-26 02:25:00  RI-2007-23004  2007-05-26     02:25      Zone K2   \n",
       "2014-10-05 11:29:00  RI-2014-40388  2014-10-05     11:29      Zone X1   \n",
       "2012-07-05 13:33:00  RI-2012-36114  2012-07-05     13:33      Zone K2   \n",
       "2014-08-31 09:49:00  RI-2014-35337  2014-08-31     09:49      Zone K3   \n",
       "2009-03-04 06:55:00  RI-2009-08374  2009-03-04     06:55      Zone X4   \n",
       "...                            ...         ...       ...          ...   \n",
       "2005-12-28 01:33:00  RI-2005-13478  2005-12-28     01:33      Zone K3   \n",
       "2015-10-31 22:42:00  RI-2015-40068  2015-10-31     22:42      Zone K3   \n",
       "2013-05-23 01:21:00  RI-2013-17239  2013-05-23     01:21      Zone K3   \n",
       "2006-12-18 10:23:00  RI-2006-56580  2006-12-18     10:23      Zone K2   \n",
       "2011-07-09 11:09:00  RI-2011-22020  2011-07-09     11:09      Zone X4   \n",
       "\n",
       "                     county_fips  fine_grained_location police_department  \\\n",
       "stop_datetime                                                               \n",
       "2007-05-26 02:25:00          NaN                    NaN               900   \n",
       "2014-10-05 11:29:00          NaN                    NaN                 0   \n",
       "2012-07-05 13:33:00          NaN                    NaN               900   \n",
       "2014-08-31 09:49:00          NaN                    NaN               300   \n",
       "2009-03-04 06:55:00          NaN                    NaN               500   \n",
       "...                          ...                    ...               ...   \n",
       "2005-12-28 01:33:00          NaN                    NaN               300   \n",
       "2015-10-31 22:42:00          NaN                    NaN               300   \n",
       "2013-05-23 01:21:00          NaN                    NaN               300   \n",
       "2006-12-18 10:23:00          NaN                    NaN               202   \n",
       "2011-07-09 11:09:00          NaN                    NaN               500   \n",
       "\n",
       "                    driver_gender  driver_age_raw  driver_age  ...  \\\n",
       "stop_datetime                                                  ...   \n",
       "2007-05-26 02:25:00             F          1973.0        34.0  ...   \n",
       "2014-10-05 11:29:00             M          1980.0        34.0  ...   \n",
       "2012-07-05 13:33:00             M          1967.0        45.0  ...   \n",
       "2014-08-31 09:49:00             M          1981.0        33.0  ...   \n",
       "2009-03-04 06:55:00             M          1964.0        45.0  ...   \n",
       "...                           ...             ...         ...  ...   \n",
       "2005-12-28 01:33:00             M          1981.0        24.0  ...   \n",
       "2015-10-31 22:42:00             M          1984.0        31.0  ...   \n",
       "2013-05-23 01:21:00             M          1986.0        27.0  ...   \n",
       "2006-12-18 10:23:00             M          1986.0        20.0  ...   \n",
       "2011-07-09 11:09:00             M          1956.0        55.0  ...   \n",
       "\n",
       "                    search_conducted search_type_raw search_type  \\\n",
       "stop_datetime                                                      \n",
       "2007-05-26 02:25:00            False             NaN         NaN   \n",
       "2014-10-05 11:29:00            False             NaN         NaN   \n",
       "2012-07-05 13:33:00            False             NaN         NaN   \n",
       "2014-08-31 09:49:00            False             NaN         NaN   \n",
       "2009-03-04 06:55:00            False             NaN         NaN   \n",
       "...                              ...             ...         ...   \n",
       "2005-12-28 01:33:00            False             NaN         NaN   \n",
       "2015-10-31 22:42:00            False             NaN         NaN   \n",
       "2013-05-23 01:21:00            False             NaN         NaN   \n",
       "2006-12-18 10:23:00            False             NaN         NaN   \n",
       "2011-07-09 11:09:00            False             NaN         NaN   \n",
       "\n",
       "                    contraband_found stop_outcome is_arrested stop_duration  \\\n",
       "stop_datetime                                                                 \n",
       "2007-05-26 02:25:00            False     Citation       False      0-15 Min   \n",
       "2014-10-05 11:29:00            False     Citation       False      0-15 Min   \n",
       "2012-07-05 13:33:00            False     Citation       False      0-15 Min   \n",
       "2014-08-31 09:49:00            False     Citation       False      0-15 Min   \n",
       "2009-03-04 06:55:00            False     Citation       False      0-15 Min   \n",
       "...                              ...          ...         ...           ...   \n",
       "2005-12-28 01:33:00            False     Citation       False      0-15 Min   \n",
       "2015-10-31 22:42:00            False     Citation       False      0-15 Min   \n",
       "2013-05-23 01:21:00            False     Citation       False     16-30 Min   \n",
       "2006-12-18 10:23:00            False     Citation       False      0-15 Min   \n",
       "2011-07-09 11:09:00            False     Citation       False     16-30 Min   \n",
       "\n",
       "                     out_of_state drugs_related_stop  district  \n",
       "stop_datetime                                                   \n",
       "2007-05-26 02:25:00         False              False   Zone K2  \n",
       "2014-10-05 11:29:00         False              False   Zone X1  \n",
       "2012-07-05 13:33:00          True              False   Zone K2  \n",
       "2014-08-31 09:49:00          True              False   Zone K3  \n",
       "2009-03-04 06:55:00         False              False   Zone X4  \n",
       "...                           ...                ...       ...  \n",
       "2005-12-28 01:33:00         False              False   Zone K3  \n",
       "2015-10-31 22:42:00          True              False   Zone K3  \n",
       "2013-05-23 01:21:00         False              False   Zone K3  \n",
       "2006-12-18 10:23:00         False              False   Zone K2  \n",
       "2011-07-09 11:09:00         False              False   Zone X4  \n",
       "\n",
       "[47176 rows x 24 columns]"
      ]
     },
     "execution_count": 13,
     "metadata": {},
     "output_type": "execute_result"
    }
   ],
   "source": [
    "ri2"
   ]
  },
  {
   "cell_type": "code",
   "execution_count": 14,
   "metadata": {},
   "outputs": [
    {
     "data": {
      "text/html": [
       "<div>\n",
       "<style scoped>\n",
       "    .dataframe tbody tr th:only-of-type {\n",
       "        vertical-align: middle;\n",
       "    }\n",
       "\n",
       "    .dataframe tbody tr th {\n",
       "        vertical-align: top;\n",
       "    }\n",
       "\n",
       "    .dataframe thead th {\n",
       "        text-align: right;\n",
       "    }\n",
       "</style>\n",
       "<table border=\"1\" class=\"dataframe\">\n",
       "  <thead>\n",
       "    <tr style=\"text-align: right;\">\n",
       "      <th></th>\n",
       "      <th>id</th>\n",
       "      <th>stop_date</th>\n",
       "      <th>stop_time</th>\n",
       "      <th>location_raw</th>\n",
       "      <th>county_fips</th>\n",
       "      <th>fine_grained_location</th>\n",
       "      <th>police_department</th>\n",
       "      <th>driver_gender</th>\n",
       "      <th>driver_age_raw</th>\n",
       "      <th>driver_age</th>\n",
       "      <th>...</th>\n",
       "      <th>search_conducted</th>\n",
       "      <th>search_type_raw</th>\n",
       "      <th>search_type</th>\n",
       "      <th>contraband_found</th>\n",
       "      <th>stop_outcome</th>\n",
       "      <th>is_arrested</th>\n",
       "      <th>stop_duration</th>\n",
       "      <th>out_of_state</th>\n",
       "      <th>drugs_related_stop</th>\n",
       "      <th>district</th>\n",
       "    </tr>\n",
       "    <tr>\n",
       "      <th>stop_datetime</th>\n",
       "      <th></th>\n",
       "      <th></th>\n",
       "      <th></th>\n",
       "      <th></th>\n",
       "      <th></th>\n",
       "      <th></th>\n",
       "      <th></th>\n",
       "      <th></th>\n",
       "      <th></th>\n",
       "      <th></th>\n",
       "      <th></th>\n",
       "      <th></th>\n",
       "      <th></th>\n",
       "      <th></th>\n",
       "      <th></th>\n",
       "      <th></th>\n",
       "      <th></th>\n",
       "      <th></th>\n",
       "      <th></th>\n",
       "      <th></th>\n",
       "      <th></th>\n",
       "    </tr>\n",
       "  </thead>\n",
       "  <tbody>\n",
       "    <tr>\n",
       "      <th>2007-05-26 02:25:00</th>\n",
       "      <td>RI-2007-23004</td>\n",
       "      <td>2007-05-26</td>\n",
       "      <td>02:25</td>\n",
       "      <td>Zone K2</td>\n",
       "      <td>NaN</td>\n",
       "      <td>NaN</td>\n",
       "      <td>900</td>\n",
       "      <td>F</td>\n",
       "      <td>1973.0</td>\n",
       "      <td>34.0</td>\n",
       "      <td>...</td>\n",
       "      <td>False</td>\n",
       "      <td>NaN</td>\n",
       "      <td>NaN</td>\n",
       "      <td>False</td>\n",
       "      <td>Citation</td>\n",
       "      <td>False</td>\n",
       "      <td>0-15 Min</td>\n",
       "      <td>False</td>\n",
       "      <td>False</td>\n",
       "      <td>Zone K2</td>\n",
       "    </tr>\n",
       "    <tr>\n",
       "      <th>2014-10-05 11:29:00</th>\n",
       "      <td>RI-2014-40388</td>\n",
       "      <td>2014-10-05</td>\n",
       "      <td>11:29</td>\n",
       "      <td>Zone X1</td>\n",
       "      <td>NaN</td>\n",
       "      <td>NaN</td>\n",
       "      <td>0</td>\n",
       "      <td>M</td>\n",
       "      <td>1980.0</td>\n",
       "      <td>34.0</td>\n",
       "      <td>...</td>\n",
       "      <td>False</td>\n",
       "      <td>NaN</td>\n",
       "      <td>NaN</td>\n",
       "      <td>False</td>\n",
       "      <td>Citation</td>\n",
       "      <td>False</td>\n",
       "      <td>0-15 Min</td>\n",
       "      <td>False</td>\n",
       "      <td>False</td>\n",
       "      <td>Zone X1</td>\n",
       "    </tr>\n",
       "    <tr>\n",
       "      <th>2012-07-05 13:33:00</th>\n",
       "      <td>RI-2012-36114</td>\n",
       "      <td>2012-07-05</td>\n",
       "      <td>13:33</td>\n",
       "      <td>Zone K2</td>\n",
       "      <td>NaN</td>\n",
       "      <td>NaN</td>\n",
       "      <td>900</td>\n",
       "      <td>M</td>\n",
       "      <td>1967.0</td>\n",
       "      <td>45.0</td>\n",
       "      <td>...</td>\n",
       "      <td>False</td>\n",
       "      <td>NaN</td>\n",
       "      <td>NaN</td>\n",
       "      <td>False</td>\n",
       "      <td>Citation</td>\n",
       "      <td>False</td>\n",
       "      <td>0-15 Min</td>\n",
       "      <td>True</td>\n",
       "      <td>False</td>\n",
       "      <td>Zone K2</td>\n",
       "    </tr>\n",
       "    <tr>\n",
       "      <th>2014-08-31 09:49:00</th>\n",
       "      <td>RI-2014-35337</td>\n",
       "      <td>2014-08-31</td>\n",
       "      <td>09:49</td>\n",
       "      <td>Zone K3</td>\n",
       "      <td>NaN</td>\n",
       "      <td>NaN</td>\n",
       "      <td>300</td>\n",
       "      <td>M</td>\n",
       "      <td>1981.0</td>\n",
       "      <td>33.0</td>\n",
       "      <td>...</td>\n",
       "      <td>False</td>\n",
       "      <td>NaN</td>\n",
       "      <td>NaN</td>\n",
       "      <td>False</td>\n",
       "      <td>Citation</td>\n",
       "      <td>False</td>\n",
       "      <td>0-15 Min</td>\n",
       "      <td>True</td>\n",
       "      <td>False</td>\n",
       "      <td>Zone K3</td>\n",
       "    </tr>\n",
       "    <tr>\n",
       "      <th>2009-03-04 06:55:00</th>\n",
       "      <td>RI-2009-08374</td>\n",
       "      <td>2009-03-04</td>\n",
       "      <td>06:55</td>\n",
       "      <td>Zone X4</td>\n",
       "      <td>NaN</td>\n",
       "      <td>NaN</td>\n",
       "      <td>500</td>\n",
       "      <td>M</td>\n",
       "      <td>1964.0</td>\n",
       "      <td>45.0</td>\n",
       "      <td>...</td>\n",
       "      <td>False</td>\n",
       "      <td>NaN</td>\n",
       "      <td>NaN</td>\n",
       "      <td>False</td>\n",
       "      <td>Citation</td>\n",
       "      <td>False</td>\n",
       "      <td>0-15 Min</td>\n",
       "      <td>False</td>\n",
       "      <td>False</td>\n",
       "      <td>Zone X4</td>\n",
       "    </tr>\n",
       "  </tbody>\n",
       "</table>\n",
       "<p>5 rows × 24 columns</p>\n",
       "</div>"
      ],
      "text/plain": [
       "                                id   stop_date stop_time location_raw  \\\n",
       "stop_datetime                                                           \n",
       "2007-05-26 02:25:00  RI-2007-23004  2007-05-26     02:25      Zone K2   \n",
       "2014-10-05 11:29:00  RI-2014-40388  2014-10-05     11:29      Zone X1   \n",
       "2012-07-05 13:33:00  RI-2012-36114  2012-07-05     13:33      Zone K2   \n",
       "2014-08-31 09:49:00  RI-2014-35337  2014-08-31     09:49      Zone K3   \n",
       "2009-03-04 06:55:00  RI-2009-08374  2009-03-04     06:55      Zone X4   \n",
       "\n",
       "                     county_fips  fine_grained_location police_department  \\\n",
       "stop_datetime                                                               \n",
       "2007-05-26 02:25:00          NaN                    NaN               900   \n",
       "2014-10-05 11:29:00          NaN                    NaN                 0   \n",
       "2012-07-05 13:33:00          NaN                    NaN               900   \n",
       "2014-08-31 09:49:00          NaN                    NaN               300   \n",
       "2009-03-04 06:55:00          NaN                    NaN               500   \n",
       "\n",
       "                    driver_gender  driver_age_raw  driver_age  ...  \\\n",
       "stop_datetime                                                  ...   \n",
       "2007-05-26 02:25:00             F          1973.0        34.0  ...   \n",
       "2014-10-05 11:29:00             M          1980.0        34.0  ...   \n",
       "2012-07-05 13:33:00             M          1967.0        45.0  ...   \n",
       "2014-08-31 09:49:00             M          1981.0        33.0  ...   \n",
       "2009-03-04 06:55:00             M          1964.0        45.0  ...   \n",
       "\n",
       "                    search_conducted search_type_raw search_type  \\\n",
       "stop_datetime                                                      \n",
       "2007-05-26 02:25:00            False             NaN         NaN   \n",
       "2014-10-05 11:29:00            False             NaN         NaN   \n",
       "2012-07-05 13:33:00            False             NaN         NaN   \n",
       "2014-08-31 09:49:00            False             NaN         NaN   \n",
       "2009-03-04 06:55:00            False             NaN         NaN   \n",
       "\n",
       "                    contraband_found stop_outcome is_arrested stop_duration  \\\n",
       "stop_datetime                                                                 \n",
       "2007-05-26 02:25:00            False     Citation       False      0-15 Min   \n",
       "2014-10-05 11:29:00            False     Citation       False      0-15 Min   \n",
       "2012-07-05 13:33:00            False     Citation       False      0-15 Min   \n",
       "2014-08-31 09:49:00            False     Citation       False      0-15 Min   \n",
       "2009-03-04 06:55:00            False     Citation       False      0-15 Min   \n",
       "\n",
       "                     out_of_state drugs_related_stop  district  \n",
       "stop_datetime                                                   \n",
       "2007-05-26 02:25:00         False              False   Zone K2  \n",
       "2014-10-05 11:29:00         False              False   Zone X1  \n",
       "2012-07-05 13:33:00          True              False   Zone K2  \n",
       "2014-08-31 09:49:00          True              False   Zone K3  \n",
       "2009-03-04 06:55:00         False              False   Zone X4  \n",
       "\n",
       "[5 rows x 24 columns]"
      ]
     },
     "execution_count": 14,
     "metadata": {},
     "output_type": "execute_result"
    }
   ],
   "source": [
    "ri2.head()"
   ]
  },
  {
   "cell_type": "code",
   "execution_count": 15,
   "metadata": {},
   "outputs": [
    {
     "data": {
      "text/plain": [
       "DatetimeIndex(['2007-05-26 02:25:00', '2014-10-05 11:29:00',\n",
       "               '2012-07-05 13:33:00', '2014-08-31 09:49:00',\n",
       "               '2009-03-04 06:55:00', '2012-05-11 06:38:00',\n",
       "               '2007-07-08 08:37:00', '2006-06-18 00:40:00',\n",
       "               '2007-12-21 02:00:00', '2014-03-24 16:54:00',\n",
       "               ...\n",
       "               '2012-11-02 17:58:00', '2010-08-12 10:23:00',\n",
       "               '2010-02-06 15:11:00', '2005-12-01 18:30:00',\n",
       "               '2008-03-21 12:21:00', '2005-12-28 01:33:00',\n",
       "               '2015-10-31 22:42:00', '2013-05-23 01:21:00',\n",
       "               '2006-12-18 10:23:00', '2011-07-09 11:09:00'],\n",
       "              dtype='datetime64[ns]', name='stop_datetime', length=47176, freq=None)"
      ]
     },
     "execution_count": 15,
     "metadata": {},
     "output_type": "execute_result"
    }
   ],
   "source": [
    "ri2.index"
   ]
  },
  {
   "cell_type": "code",
   "execution_count": 14,
   "metadata": {
    "scrolled": false
   },
   "outputs": [
    {
     "data": {
      "text/plain": [
       "3.4618727608064273"
      ]
     },
     "execution_count": 14,
     "metadata": {},
     "output_type": "execute_result"
    }
   ],
   "source": [
    "ri2[\"is_arrested\"].mean()*100"
   ]
  },
  {
   "cell_type": "code",
   "execution_count": 16,
   "metadata": {
    "scrolled": true
   },
   "outputs": [],
   "source": [
    "ri2[\"date_time\"]=ri2.index"
   ]
  },
  {
   "cell_type": "code",
   "execution_count": 17,
   "metadata": {},
   "outputs": [
    {
     "data": {
      "text/plain": [
       "stop_datetime\n",
       "2007-05-26 02:25:00   2007-05-26 02:25:00\n",
       "2014-10-05 11:29:00   2014-10-05 11:29:00\n",
       "2012-07-05 13:33:00   2012-07-05 13:33:00\n",
       "2014-08-31 09:49:00   2014-08-31 09:49:00\n",
       "2009-03-04 06:55:00   2009-03-04 06:55:00\n",
       "                              ...        \n",
       "2005-12-28 01:33:00   2005-12-28 01:33:00\n",
       "2015-10-31 22:42:00   2015-10-31 22:42:00\n",
       "2013-05-23 01:21:00   2013-05-23 01:21:00\n",
       "2006-12-18 10:23:00   2006-12-18 10:23:00\n",
       "2011-07-09 11:09:00   2011-07-09 11:09:00\n",
       "Name: date_time, Length: 47176, dtype: datetime64[ns]"
      ]
     },
     "execution_count": 17,
     "metadata": {},
     "output_type": "execute_result"
    }
   ],
   "source": [
    "ri2[\"date_time\"]"
   ]
  },
  {
   "cell_type": "code",
   "execution_count": 21,
   "metadata": {},
   "outputs": [
    {
     "data": {
      "text/plain": [
       "stop_datetime\n",
       "2007-05-26 02:25:00     2\n",
       "2014-10-05 11:29:00    11\n",
       "2012-07-05 13:33:00    13\n",
       "2014-08-31 09:49:00     9\n",
       "2009-03-04 06:55:00     6\n",
       "                       ..\n",
       "2005-12-28 01:33:00     1\n",
       "2015-10-31 22:42:00    22\n",
       "2013-05-23 01:21:00     1\n",
       "2006-12-18 10:23:00    10\n",
       "2011-07-09 11:09:00    11\n",
       "Name: date_time, Length: 47176, dtype: int64"
      ]
     },
     "execution_count": 21,
     "metadata": {},
     "output_type": "execute_result"
    }
   ],
   "source": [
    "ri2.date_time.dt.hour"
   ]
  },
  {
   "cell_type": "code",
   "execution_count": 26,
   "metadata": {},
   "outputs": [],
   "source": [
    "hourly_arrest_rate = ri2.groupby(ri2.index.hour).mean()[\"is_arrested\"]*100"
   ]
  },
  {
   "cell_type": "code",
   "execution_count": 27,
   "metadata": {},
   "outputs": [
    {
     "data": {
      "text/plain": [
       "stop_datetime\n",
       "0     5.185466\n",
       "1     6.922012\n",
       "2     5.975275\n",
       "3     6.583630\n",
       "4     3.846154\n",
       "5     2.419355\n",
       "6     1.452644\n",
       "7     1.117318\n",
       "8     2.012940\n",
       "9     2.643812\n",
       "10    2.191130\n",
       "11    2.807913\n",
       "12    3.769634\n",
       "13    3.182180\n",
       "14    3.440054\n",
       "15    3.178295\n",
       "16    3.005604\n",
       "17    4.573379\n",
       "18    4.426378\n",
       "19    2.769461\n",
       "20    3.415783\n",
       "21    5.851756\n",
       "22    4.248183\n",
       "23    4.203152\n",
       "Name: is_arrested, dtype: float64"
      ]
     },
     "execution_count": 27,
     "metadata": {},
     "output_type": "execute_result"
    }
   ],
   "source": [
    "ri2.groupby(ri2.index.hour).mean()[\"is_arrested\"]*100"
   ]
  },
  {
   "cell_type": "code",
   "execution_count": 35,
   "metadata": {},
   "outputs": [
    {
     "data": {
      "text/plain": [
       "stop_datetime\n",
       "2007-09-02 01:00:00    6\n",
       "2012-07-07 22:17:00    5\n",
       "2010-08-07 08:01:00    5\n",
       "2006-06-22 22:18:00    3\n",
       "2006-10-13 21:20:00    4\n",
       "                      ..\n",
       "2011-10-07 23:35:00    4\n",
       "2009-03-17 15:55:00    1\n",
       "2006-11-28 19:45:00    1\n",
       "2011-04-08 12:02:00    4\n",
       "2013-07-08 09:25:00    0\n",
       "Name: date_time, Length: 47171, dtype: int64"
      ]
     },
     "execution_count": 35,
     "metadata": {},
     "output_type": "execute_result"
    }
   ],
   "source": [
    "ri2.date_time.dt.weekday"
   ]
  },
  {
   "cell_type": "code",
   "execution_count": 36,
   "metadata": {},
   "outputs": [
    {
     "data": {
      "text/plain": [
       "date_time\n",
       "0     0.051855\n",
       "1     0.069220\n",
       "2     0.059753\n",
       "3     0.065836\n",
       "4     0.038462\n",
       "5     0.024194\n",
       "6     0.014526\n",
       "7     0.011173\n",
       "8     0.020129\n",
       "9     0.026438\n",
       "10    0.021911\n",
       "11    0.028079\n",
       "12    0.037696\n",
       "13    0.031822\n",
       "14    0.034401\n",
       "15    0.031783\n",
       "16    0.030056\n",
       "17    0.045734\n",
       "18    0.044264\n",
       "19    0.027695\n",
       "20    0.034158\n",
       "21    0.058518\n",
       "22    0.042482\n",
       "23    0.042032\n",
       "Name: is_arrested, dtype: float64"
      ]
     },
     "execution_count": 36,
     "metadata": {},
     "output_type": "execute_result"
    }
   ],
   "source": [
    "ri2.groupby(ri2.date_time.dt.hour).is_arrested.mean()"
   ]
  },
  {
   "cell_type": "markdown",
   "metadata": {},
   "source": [
    "***"
   ]
  },
  {
   "cell_type": "markdown",
   "metadata": {},
   "source": [
    "## Plotting the hourly arrest rate"
   ]
  },
  {
   "cell_type": "code",
   "execution_count": 44,
   "metadata": {},
   "outputs": [],
   "source": [
    "import matplotlib.pyplot as plt"
   ]
  },
  {
   "cell_type": "code",
   "execution_count": 45,
   "metadata": {},
   "outputs": [
    {
     "data": {
      "image/png": "[encoded data removed]",
      "text/plain": [
       "<Figure size 432x288 with 1 Axes>"
      ]
     },
     "metadata": {
      "needs_background": "light"
     },
     "output_type": "display_data"
    }
   ],
   "source": [
    "plt.plot(hourly_arrest_rate)\n",
    "plt.xlabel(\"Hour\")\n",
    "plt.ylabel(\"Arrest Rate\")\n",
    "plt.title(\"Arrest Rate by Time of Day\")\n",
    "plt.show()"
   ]
  },
  {
   "cell_type": "markdown",
   "metadata": {},
   "source": [
    "***"
   ]
  },
  {
   "cell_type": "markdown",
   "metadata": {},
   "source": [
    "## Plotting drug-related stops"
   ]
  },
  {
   "cell_type": "code",
   "execution_count": 46,
   "metadata": {
    "scrolled": true
   },
   "outputs": [
    {
     "data": {
      "text/plain": [
       "1.055733395518433"
      ]
     },
     "execution_count": 46,
     "metadata": {},
     "output_type": "execute_result"
    }
   ],
   "source": [
    "ri2[\"drugs_related_stop\"].mean()*100"
   ]
  },
  {
   "cell_type": "code",
   "execution_count": 47,
   "metadata": {},
   "outputs": [
    {
     "data": {
      "text/plain": [
       "False    46673\n",
       "True       498\n",
       "Name: drugs_related_stop, dtype: int64"
      ]
     },
     "execution_count": 47,
     "metadata": {},
     "output_type": "execute_result"
    }
   ],
   "source": [
    "ri2[\"drugs_related_stop\"].value_counts()"
   ]
  },
  {
   "cell_type": "code",
   "execution_count": 48,
   "metadata": {},
   "outputs": [],
   "source": [
    "annual_drug_rate = ri2.groupby(ri2.index.year).mean()[\"drugs_related_stop\"]*100"
   ]
  },
  {
   "cell_type": "code",
   "execution_count": 49,
   "metadata": {},
   "outputs": [
    {
     "data": {
      "text/plain": [
       "stop_datetime\n",
       "2005-12-31    1.418969\n",
       "2006-12-31    0.635209\n",
       "2007-12-31    0.896767\n",
       "2008-12-31    0.573951\n",
       "2009-12-31    1.284027\n",
       "2010-12-31    0.835232\n",
       "2011-12-31    0.913901\n",
       "2012-12-31    1.467956\n",
       "2013-12-31    0.984494\n",
       "2014-12-31    1.572712\n",
       "2015-12-31    1.236233\n",
       "Freq: A-DEC, Name: drugs_related_stop, dtype: float64"
      ]
     },
     "execution_count": 49,
     "metadata": {},
     "output_type": "execute_result"
    }
   ],
   "source": [
    "ri2.drugs_related_stop.resample(\"A\").mean()*100"
   ]
  },
  {
   "cell_type": "code",
   "execution_count": 50,
   "metadata": {},
   "outputs": [
    {
     "data": {
      "text/plain": [
       "stop_datetime\n",
       "2005-03-31    25.000000\n",
       "2005-06-30          NaN\n",
       "2005-09-30     0.000000\n",
       "2005-12-31     1.363636\n",
       "2006-03-31     1.015965\n",
       "2006-06-30     0.372024\n",
       "2006-09-30     0.583516\n",
       "2006-12-31     0.564573\n",
       "2007-03-31     0.676692\n",
       "2007-06-30     0.935308\n",
       "2007-09-30     1.394943\n",
       "2007-12-31     0.579710\n",
       "2008-03-31     0.437828\n",
       "2008-06-30     0.455373\n",
       "2008-09-30     0.833333\n",
       "2008-12-31     0.550459\n",
       "2009-03-31     1.162791\n",
       "2009-06-30     1.385042\n",
       "2009-09-30     1.257143\n",
       "2009-12-31     1.344743\n",
       "2010-03-31     0.790514\n",
       "2010-06-30     0.892061\n",
       "2010-09-30     0.510725\n",
       "2010-12-31     1.191895\n",
       "2011-03-31     0.780379\n",
       "2011-06-30     1.492537\n",
       "2011-09-30     0.969163\n",
       "2011-12-31     0.446030\n",
       "2012-03-31     1.563405\n",
       "2012-06-30     1.630789\n",
       "2012-09-30     1.406366\n",
       "2012-12-31     1.128205\n",
       "2013-03-31     0.903614\n",
       "2013-06-30     0.974659\n",
       "2013-09-30     1.036758\n",
       "2013-12-31     1.020408\n",
       "2014-03-31     1.289833\n",
       "2014-06-30     1.301685\n",
       "2014-09-30     1.894563\n",
       "2014-12-31     1.890359\n",
       "2015-03-31     1.696607\n",
       "2015-06-30     2.062868\n",
       "2015-09-30     0.841622\n",
       "2015-12-31     0.534759\n",
       "Freq: Q-DEC, Name: drugs_related_stop, dtype: float64"
      ]
     },
     "execution_count": 50,
     "metadata": {},
     "output_type": "execute_result"
    }
   ],
   "source": [
    "ri2.drugs_related_stop.resample(\"Q\").mean()*100  # 3 Aylık Raporlar Halinde"
   ]
  },
  {
   "cell_type": "code",
   "execution_count": 51,
   "metadata": {},
   "outputs": [
    {
     "data": {
      "text/plain": [
       "stop_datetime\n",
       "2005    1.418969\n",
       "2006    0.635209\n",
       "2007    0.896767\n",
       "2008    0.573951\n",
       "2009    1.284027\n",
       "2010    0.835232\n",
       "2011    0.913901\n",
       "2012    1.467956\n",
       "2013    0.984494\n",
       "2014    1.572712\n",
       "2015    1.236233\n",
       "Name: drugs_related_stop, dtype: float64"
      ]
     },
     "execution_count": 51,
     "metadata": {},
     "output_type": "execute_result"
    }
   ],
   "source": [
    "annual_drug_rate"
   ]
  },
  {
   "cell_type": "code",
   "execution_count": 52,
   "metadata": {
    "scrolled": true
   },
   "outputs": [
    {
     "data": {
      "image/png": "[encoded data removed]",
      "text/plain": [
       "<Figure size 432x288 with 1 Axes>"
      ]
     },
     "metadata": {
      "needs_background": "light"
     },
     "output_type": "display_data"
    }
   ],
   "source": [
    "plt.plot(annual_drug_rate)\n",
    "plt.show()"
   ]
  },
  {
   "cell_type": "markdown",
   "metadata": {},
   "source": [
    "***"
   ]
  },
  {
   "cell_type": "markdown",
   "metadata": {},
   "source": [
    "## Comparing drug and search rates (to be deleted)"
   ]
  },
  {
   "cell_type": "code",
   "execution_count": 58,
   "metadata": {},
   "outputs": [
    {
     "data": {
      "text/plain": [
       "dtype('O')"
      ]
     },
     "execution_count": 58,
     "metadata": {},
     "output_type": "execute_result"
    }
   ],
   "source": [
    "ri2.search_conducted.dtypes"
   ]
  },
  {
   "cell_type": "code",
   "execution_count": 59,
   "metadata": {},
   "outputs": [],
   "source": [
    "ri2 = ri2.astype({\"search_conducted\" : \"bool\"})"
   ]
  },
  {
   "cell_type": "code",
   "execution_count": 60,
   "metadata": {},
   "outputs": [
    {
     "data": {
      "text/plain": [
       "dtype('bool')"
      ]
     },
     "execution_count": 60,
     "metadata": {},
     "output_type": "execute_result"
    }
   ],
   "source": [
    "ri2.search_conducted.dtypes"
   ]
  },
  {
   "cell_type": "code",
   "execution_count": 61,
   "metadata": {
    "scrolled": true
   },
   "outputs": [
    {
     "data": {
      "text/plain": [
       "False    45439\n",
       "True      1732\n",
       "Name: search_conducted, dtype: int64"
      ]
     },
     "execution_count": 61,
     "metadata": {},
     "output_type": "execute_result"
    }
   ],
   "source": [
    "ri2.search_conducted.value_counts(dropna=False)"
   ]
  },
  {
   "cell_type": "code",
   "execution_count": 62,
   "metadata": {
    "scrolled": true
   },
   "outputs": [],
   "source": [
    "annual = ri2.groupby(ri2.index.year).mean()[\"search_conducted\"]*100"
   ]
  },
  {
   "cell_type": "code",
   "execution_count": 67,
   "metadata": {},
   "outputs": [],
   "source": [
    "# Alternatif  ri2.search_conducted.resample(\"A\").mean()"
   ]
  },
  {
   "cell_type": "code",
   "execution_count": 66,
   "metadata": {},
   "outputs": [
    {
     "data": {
      "text/plain": [
       "stop_datetime\n",
       "2005    5.451830\n",
       "2006    3.303085\n",
       "2007    4.337852\n",
       "2008    3.443709\n",
       "2009    4.776579\n",
       "2010    3.998988\n",
       "2011    4.016354\n",
       "2012    3.634085\n",
       "2013    2.658134\n",
       "2014    3.145425\n",
       "2015    3.079344\n",
       "Name: search_conducted, dtype: float64"
      ]
     },
     "execution_count": 66,
     "metadata": {},
     "output_type": "execute_result"
    }
   ],
   "source": [
    "annual"
   ]
  },
  {
   "cell_type": "code",
   "execution_count": 63,
   "metadata": {
    "scrolled": true
   },
   "outputs": [
    {
     "data": {
      "text/plain": [
       "[<matplotlib.lines.Line2D at 0x2d8fa869ca0>]"
      ]
     },
     "execution_count": 63,
     "metadata": {},
     "output_type": "execute_result"
    },
    {
     "data": {
      "image/png": "[encoded data removed]",
      "text/plain": [
       "<Figure size 432x288 with 1 Axes>"
      ]
     },
     "metadata": {
      "needs_background": "light"
     },
     "output_type": "display_data"
    }
   ],
   "source": [
    "plt.plot(annual)"
   ]
  },
  {
   "cell_type": "code",
   "execution_count": 72,
   "metadata": {
    "scrolled": true
   },
   "outputs": [
    {
     "data": {
      "image/png": "[encoded data removed]",
      "text/plain": [
       "<Figure size 432x288 with 2 Axes>"
      ]
     },
     "metadata": {
      "needs_background": "light"
     },
     "output_type": "display_data"
    }
   ],
   "source": [
    "plt.subplot(2,1,1)\n",
    "plt.plot(annual_drug_rate)\n",
    "plt.subplot(2,1,2)\n",
    "plt.plot(annual)\n",
    "plt.show()"
   ]
  },
  {
   "cell_type": "code",
   "execution_count": 69,
   "metadata": {},
   "outputs": [],
   "source": [
    "annual2 = pd.concat([annual_drug_rate, annual], axis = \"columns\")"
   ]
  },
  {
   "cell_type": "code",
   "execution_count": 71,
   "metadata": {},
   "outputs": [
    {
     "data": {
      "text/plain": [
       "array([<matplotlib.axes._subplots.AxesSubplot object at 0x000002D8F99B0040>,\n",
       "       <matplotlib.axes._subplots.AxesSubplot object at 0x000002D8FA6DADC0>],\n",
       "      dtype=object)"
      ]
     },
     "execution_count": 71,
     "metadata": {},
     "output_type": "execute_result"
    },
    {
     "data": {
      "image/png": "[encoded data removed]",
      "text/plain": [
       "<Figure size 432x288 with 2 Axes>"
      ]
     },
     "metadata": {
      "needs_background": "light"
     },
     "output_type": "display_data"
    }
   ],
   "source": [
    "annual2.plot(subplots = True)"
   ]
  },
  {
   "cell_type": "markdown",
   "metadata": {},
   "source": [
    "***"
   ]
  },
  {
   "cell_type": "markdown",
   "metadata": {},
   "source": [
    "## Tallying violations by district"
   ]
  },
  {
   "cell_type": "code",
   "execution_count": 203,
   "metadata": {},
   "outputs": [],
   "source": [
    "all_zones = pd.crosstab(ri2[\"district\"], ri2[\"violation\"])"
   ]
  },
  {
   "cell_type": "code",
   "execution_count": 204,
   "metadata": {
    "scrolled": false
   },
   "outputs": [
    {
     "data": {
      "text/html": [
       "<div>\n",
       "<style scoped>\n",
       "    .dataframe tbody tr th:only-of-type {\n",
       "        vertical-align: middle;\n",
       "    }\n",
       "\n",
       "    .dataframe tbody tr th {\n",
       "        vertical-align: top;\n",
       "    }\n",
       "\n",
       "    .dataframe thead th {\n",
       "        text-align: right;\n",
       "    }\n",
       "</style>\n",
       "<table border=\"1\" class=\"dataframe\">\n",
       "  <thead>\n",
       "    <tr style=\"text-align: right;\">\n",
       "      <th>violation</th>\n",
       "      <th>Equipment</th>\n",
       "      <th>Moving violation</th>\n",
       "      <th>Other</th>\n",
       "      <th>Registration/plates</th>\n",
       "      <th>Seat belt</th>\n",
       "      <th>Speeding</th>\n",
       "    </tr>\n",
       "    <tr>\n",
       "      <th>district</th>\n",
       "      <th></th>\n",
       "      <th></th>\n",
       "      <th></th>\n",
       "      <th></th>\n",
       "      <th></th>\n",
       "      <th></th>\n",
       "    </tr>\n",
       "  </thead>\n",
       "  <tbody>\n",
       "    <tr>\n",
       "      <th>Zone K1</th>\n",
       "      <td>374</td>\n",
       "      <td>699</td>\n",
       "      <td>146</td>\n",
       "      <td>56</td>\n",
       "      <td>0</td>\n",
       "      <td>3266</td>\n",
       "    </tr>\n",
       "    <tr>\n",
       "      <th>Zone K2</th>\n",
       "      <td>1161</td>\n",
       "      <td>1605</td>\n",
       "      <td>484</td>\n",
       "      <td>387</td>\n",
       "      <td>261</td>\n",
       "      <td>5591</td>\n",
       "    </tr>\n",
       "    <tr>\n",
       "      <th>Zone K3</th>\n",
       "      <td>1264</td>\n",
       "      <td>1532</td>\n",
       "      <td>386</td>\n",
       "      <td>372</td>\n",
       "      <td>367</td>\n",
       "      <td>6717</td>\n",
       "    </tr>\n",
       "    <tr>\n",
       "      <th>Zone X1</th>\n",
       "      <td>178</td>\n",
       "      <td>358</td>\n",
       "      <td>70</td>\n",
       "      <td>22</td>\n",
       "      <td>47</td>\n",
       "      <td>664</td>\n",
       "    </tr>\n",
       "    <tr>\n",
       "      <th>Zone X3</th>\n",
       "      <td>1059</td>\n",
       "      <td>1683</td>\n",
       "      <td>377</td>\n",
       "      <td>383</td>\n",
       "      <td>448</td>\n",
       "      <td>4793</td>\n",
       "    </tr>\n",
       "    <tr>\n",
       "      <th>Zone X4</th>\n",
       "      <td>1982</td>\n",
       "      <td>2985</td>\n",
       "      <td>908</td>\n",
       "      <td>726</td>\n",
       "      <td>483</td>\n",
       "      <td>5375</td>\n",
       "    </tr>\n",
       "  </tbody>\n",
       "</table>\n",
       "</div>"
      ],
      "text/plain": [
       "violation  Equipment  Moving violation  Other  Registration/plates  Seat belt  \\\n",
       "district                                                                        \n",
       "Zone K1          374               699    146                   56          0   \n",
       "Zone K2         1161              1605    484                  387        261   \n",
       "Zone K3         1264              1532    386                  372        367   \n",
       "Zone X1          178               358     70                   22         47   \n",
       "Zone X3         1059              1683    377                  383        448   \n",
       "Zone X4         1982              2985    908                  726        483   \n",
       "\n",
       "violation  Speeding  \n",
       "district             \n",
       "Zone K1        3266  \n",
       "Zone K2        5591  \n",
       "Zone K3        6717  \n",
       "Zone X1         664  \n",
       "Zone X3        4793  \n",
       "Zone X4        5375  "
      ]
     },
     "execution_count": 204,
     "metadata": {},
     "output_type": "execute_result"
    }
   ],
   "source": [
    "all_zones"
   ]
  },
  {
   "cell_type": "code",
   "execution_count": 205,
   "metadata": {},
   "outputs": [],
   "source": [
    "k_zones = all_zones.loc[\"Zone K1\":\"Zone K3\"]"
   ]
  },
  {
   "cell_type": "markdown",
   "metadata": {},
   "source": [
    "***"
   ]
  },
  {
   "cell_type": "markdown",
   "metadata": {},
   "source": [
    "## Plotting violations by district"
   ]
  },
  {
   "cell_type": "code",
   "execution_count": 206,
   "metadata": {},
   "outputs": [
    {
     "data": {
      "text/plain": [
       "<matplotlib.axes._subplots.AxesSubplot at 0x2cfab8f3d30>"
      ]
     },
     "execution_count": 206,
     "metadata": {},
     "output_type": "execute_result"
    },
    {
     "data": {
      "image/png": "[encoded data removed]",
      "text/plain": [
       "<Figure size 432x288 with 1 Axes>"
      ]
     },
     "metadata": {
      "needs_background": "light"
     },
     "output_type": "display_data"
    }
   ],
   "source": [
    "k_zones.plot.bar()"
   ]
  },
  {
   "cell_type": "code",
   "execution_count": 207,
   "metadata": {},
   "outputs": [
    {
     "data": {
      "text/plain": [
       "<matplotlib.axes._subplots.AxesSubplot at 0x2cfbd852be0>"
      ]
     },
     "execution_count": 207,
     "metadata": {},
     "output_type": "execute_result"
    },
    {
     "data": {
      "image/png": "[encoded data removed]",
      "text/plain": [
       "<Figure size 432x288 with 1 Axes>"
      ]
     },
     "metadata": {
      "needs_background": "light"
     },
     "output_type": "display_data"
    }
   ],
   "source": [
    "k_zones.plot(kind=\"bar\")"
   ]
  },
  {
   "cell_type": "markdown",
   "metadata": {},
   "source": [
    "**INSTRUCTIONS 2/2**\n",
    "\n",
    "*   Create a stacked bar plot of ``k_zones``.\n",
    "*   Display the plot and examine it. Do you notice anything different about the data than you did previously?"
   ]
  },
  {
   "cell_type": "code",
   "execution_count": 208,
   "metadata": {
    "scrolled": true
   },
   "outputs": [
    {
     "data": {
      "text/plain": [
       "<matplotlib.axes._subplots.AxesSubplot at 0x2cfbd8971f0>"
      ]
     },
     "execution_count": 208,
     "metadata": {},
     "output_type": "execute_result"
    },
    {
     "data": {
      "image/png": "[encoded data removed]",
      "text/plain": [
       "<Figure size 432x288 with 1 Axes>"
      ]
     },
     "metadata": {
      "needs_background": "light"
     },
     "output_type": "display_data"
    }
   ],
   "source": [
    "k_zones.plot(kind=\"bar\", stacked=True)"
   ]
  },
  {
   "cell_type": "markdown",
   "metadata": {},
   "source": [
    "***"
   ]
  },
  {
   "cell_type": "markdown",
   "metadata": {},
   "source": [
    "## Converting stop durations to numbers"
   ]
  },
  {
   "cell_type": "code",
   "execution_count": 80,
   "metadata": {
    "scrolled": true
   },
   "outputs": [
    {
     "data": {
      "text/plain": [
       "4"
      ]
     },
     "execution_count": 80,
     "metadata": {},
     "output_type": "execute_result"
    }
   ],
   "source": [
    "ri2.nunique()[\"stop_duration\"]"
   ]
  },
  {
   "cell_type": "code",
   "execution_count": 81,
   "metadata": {},
   "outputs": [
    {
     "data": {
      "text/plain": [
       "array(['0-15 Min', '16-30 Min', '30+ Min', '1'], dtype=object)"
      ]
     },
     "execution_count": 81,
     "metadata": {},
     "output_type": "execute_result"
    }
   ],
   "source": [
    "ri2[\"stop_duration\"].unique()"
   ]
  },
  {
   "cell_type": "code",
   "execution_count": 82,
   "metadata": {},
   "outputs": [],
   "source": [
    "mapping = {\"0-15 Min\":8, \"16-30 Min\":23, \"30+ Min\":45}"
   ]
  },
  {
   "cell_type": "code",
   "execution_count": 85,
   "metadata": {},
   "outputs": [],
   "source": [
    "ri2[\"stop_minutes\"] = ri2[\"stop_duration\"].map(mapping)"
   ]
  },
  {
   "cell_type": "code",
   "execution_count": 87,
   "metadata": {},
   "outputs": [
    {
     "data": {
      "text/plain": [
       "8.0     37915\n",
       "23.0     7467\n",
       "45.0     1788\n",
       "NaN         1\n",
       "Name: stop_minutes, dtype: int64"
      ]
     },
     "execution_count": 87,
     "metadata": {},
     "output_type": "execute_result"
    }
   ],
   "source": [
    "ri2.stop_minutes.value_counts(dropna=False)"
   ]
  },
  {
   "cell_type": "code",
   "execution_count": 88,
   "metadata": {},
   "outputs": [
    {
     "data": {
      "text/plain": [
       "array([ 8., 23., 45., nan])"
      ]
     },
     "execution_count": 88,
     "metadata": {},
     "output_type": "execute_result"
    }
   ],
   "source": [
    "ri2[\"stop_minutes\"].unique()"
   ]
  },
  {
   "cell_type": "markdown",
   "metadata": {},
   "source": [
    "***"
   ]
  },
  {
   "cell_type": "markdown",
   "metadata": {},
   "source": [
    "## Plotting stop length"
   ]
  },
  {
   "cell_type": "raw",
   "metadata": {},
   "source": [
    "If you were stopped for a particular violation, how long might you expect to be detained?\n",
    "\n",
    "In this exercise, you'll visualize the **average length** of time drivers are stopped for each **type** of **violation**. Rather than using the ``violation`` column in this exercise, you'll use ``violation_raw`` since it contains more detailed descriptions of the violations."
   ]
  },
  {
   "cell_type": "markdown",
   "metadata": {},
   "source": [
    "**INSTRUCTIONS**\n",
    "\n",
    "*   For each value in the ``violation_raw`` column, calculate the **mean number** of ``stop_minutes`` that a driver is detained.\n",
    "*   Save the resulting ``Series`` as a new object, ``stop_length``.\n",
    "*   Sort ``stop_length`` by its values, and then visualize it using a **horizontal bar plot**.\n",
    "*   Display the plot."
   ]
  },
  {
   "cell_type": "code",
   "execution_count": 218,
   "metadata": {},
   "outputs": [
    {
     "data": {
      "text/plain": [
       "stop_datetime\n",
       "2010-05-06 17:10:00           Other Traffic Violation\n",
       "2012-05-20 10:03:00                          Speeding\n",
       "2005-11-28 08:15:00           Other Traffic Violation\n",
       "2015-07-03 23:20:00    Equipment/Inspection Violation\n",
       "2007-01-10 08:55:00                          Speeding\n",
       "                                    ...              \n",
       "2012-05-04 15:59:00           Other Traffic Violation\n",
       "2006-02-07 09:49:00                          Speeding\n",
       "2006-09-22 15:20:00                          Speeding\n",
       "2013-01-25 11:00:00    Equipment/Inspection Violation\n",
       "2015-04-18 22:40:00    Equipment/Inspection Violation\n",
       "Name: violation_raw, Length: 47209, dtype: object"
      ]
     },
     "execution_count": 218,
     "metadata": {},
     "output_type": "execute_result"
    }
   ],
   "source": [
    "ri2[\"violation_raw\"]"
   ]
  },
  {
   "cell_type": "code",
   "execution_count": 224,
   "metadata": {
    "scrolled": true
   },
   "outputs": [
    {
     "data": {
      "text/html": [
       "<div>\n",
       "<style scoped>\n",
       "    .dataframe tbody tr th:only-of-type {\n",
       "        vertical-align: middle;\n",
       "    }\n",
       "\n",
       "    .dataframe tbody tr th {\n",
       "        vertical-align: top;\n",
       "    }\n",
       "\n",
       "    .dataframe thead th {\n",
       "        text-align: right;\n",
       "    }\n",
       "</style>\n",
       "<table border=\"1\" class=\"dataframe\">\n",
       "  <thead>\n",
       "    <tr style=\"text-align: right;\">\n",
       "      <th>stop_minutes</th>\n",
       "      <th>8</th>\n",
       "      <th>23</th>\n",
       "      <th>45</th>\n",
       "    </tr>\n",
       "    <tr>\n",
       "      <th>violation_raw</th>\n",
       "      <th></th>\n",
       "      <th></th>\n",
       "      <th></th>\n",
       "    </tr>\n",
       "  </thead>\n",
       "  <tbody>\n",
       "    <tr>\n",
       "      <th>APB</th>\n",
       "      <td>23</td>\n",
       "      <td>11</td>\n",
       "      <td>8</td>\n",
       "    </tr>\n",
       "    <tr>\n",
       "      <th>Call for Service</th>\n",
       "      <td>295</td>\n",
       "      <td>267</td>\n",
       "      <td>189</td>\n",
       "    </tr>\n",
       "    <tr>\n",
       "      <th>Equipment/Inspection Violation</th>\n",
       "      <td>4964</td>\n",
       "      <td>777</td>\n",
       "      <td>277</td>\n",
       "    </tr>\n",
       "    <tr>\n",
       "      <th>Motorist Assist/Courtesy</th>\n",
       "      <td>53</td>\n",
       "      <td>30</td>\n",
       "      <td>7</td>\n",
       "    </tr>\n",
       "    <tr>\n",
       "      <th>Other Traffic Violation</th>\n",
       "      <td>6415</td>\n",
       "      <td>1730</td>\n",
       "      <td>717</td>\n",
       "    </tr>\n",
       "    <tr>\n",
       "      <th>Registration Violation</th>\n",
       "      <td>1371</td>\n",
       "      <td>465</td>\n",
       "      <td>110</td>\n",
       "    </tr>\n",
       "    <tr>\n",
       "      <th>Seatbelt Violation</th>\n",
       "      <td>1437</td>\n",
       "      <td>145</td>\n",
       "      <td>24</td>\n",
       "    </tr>\n",
       "    <tr>\n",
       "      <th>Special Detail/Directed Patrol</th>\n",
       "      <td>908</td>\n",
       "      <td>323</td>\n",
       "      <td>120</td>\n",
       "    </tr>\n",
       "    <tr>\n",
       "      <th>Speeding</th>\n",
       "      <td>22337</td>\n",
       "      <td>3740</td>\n",
       "      <td>329</td>\n",
       "    </tr>\n",
       "    <tr>\n",
       "      <th>Suspicious Person</th>\n",
       "      <td>18</td>\n",
       "      <td>8</td>\n",
       "      <td>6</td>\n",
       "    </tr>\n",
       "    <tr>\n",
       "      <th>Violation of City/Town Ordinance</th>\n",
       "      <td>59</td>\n",
       "      <td>33</td>\n",
       "      <td>4</td>\n",
       "    </tr>\n",
       "    <tr>\n",
       "      <th>Warrant</th>\n",
       "      <td>4</td>\n",
       "      <td>3</td>\n",
       "      <td>2</td>\n",
       "    </tr>\n",
       "  </tbody>\n",
       "</table>\n",
       "</div>"
      ],
      "text/plain": [
       "stop_minutes                         8     23   45\n",
       "violation_raw                                     \n",
       "APB                                  23    11    8\n",
       "Call for Service                    295   267  189\n",
       "Equipment/Inspection Violation     4964   777  277\n",
       "Motorist Assist/Courtesy             53    30    7\n",
       "Other Traffic Violation            6415  1730  717\n",
       "Registration Violation             1371   465  110\n",
       "Seatbelt Violation                 1437   145   24\n",
       "Special Detail/Directed Patrol      908   323  120\n",
       "Speeding                          22337  3740  329\n",
       "Suspicious Person                    18     8    6\n",
       "Violation of City/Town Ordinance     59    33    4\n",
       "Warrant                               4     3    2"
      ]
     },
     "execution_count": 224,
     "metadata": {},
     "output_type": "execute_result"
    }
   ],
   "source": [
    "pd.crosstab(ri2[\"violation_raw\"], ri2[\"stop_minutes\"])"
   ]
  },
  {
   "cell_type": "code",
   "execution_count": 90,
   "metadata": {},
   "outputs": [],
   "source": [
    "stop_length = ri2.groupby(\"violation_raw\").mean()[\"stop_minutes\"]"
   ]
  },
  {
   "cell_type": "code",
   "execution_count": 91,
   "metadata": {},
   "outputs": [],
   "source": [
    "a = stop_length.sort_values()"
   ]
  },
  {
   "cell_type": "code",
   "execution_count": 92,
   "metadata": {},
   "outputs": [
    {
     "data": {
      "image/png": "[encoded data removed]",
      "text/plain": [
       "<Figure size 432x288 with 1 Axes>"
      ]
     },
     "metadata": {
      "needs_background": "light"
     },
     "output_type": "display_data"
    }
   ],
   "source": [
    "a.plot(kind=\"bar\")\n",
    "plt.show()"
   ]
  },
  {
   "cell_type": "code",
   "execution_count": 94,
   "metadata": {},
   "outputs": [
    {
     "data": {
      "text/plain": [
       "<matplotlib.axes._subplots.AxesSubplot at 0x2d8f9dd62b0>"
      ]
     },
     "execution_count": 94,
     "metadata": {},
     "output_type": "execute_result"
    },
    {
     "data": {
      "image/png": "[encoded data removed]",
      "text/plain": [
       "<Figure size 432x288 with 1 Axes>"
      ]
     },
     "metadata": {
      "needs_background": "light"
     },
     "output_type": "display_data"
    }
   ],
   "source": [
    "stop_length.sort_values().plot(kind=\"barh\")"
   ]
  }
 ],
 "metadata": {
  "kernelspec": {
   "display_name": "Python 3",
   "language": "python",
   "name": "python3"
  },
  "language_info": {
   "codemirror_mode": {
    "name": "ipython",
    "version": 3
   },
   "file_extension": ".py",
   "mimetype": "text/x-python",
   "name": "python",
   "nbconvert_exporter": "python",
   "pygments_lexer": "ipython3",
   "version": "3.8.3"
  }
 },
 "nbformat": 4,
 "nbformat_minor": 4
}
